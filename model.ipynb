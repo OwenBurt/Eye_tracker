{
 "cells": [
  {
   "cell_type": "markdown",
   "metadata": {},
   "source": [
    "# Eye-tracker pupil detection model   \n",
    "<hr></hr>\n",
    "<b>Author:</b> Owen Burt  \n",
    "\n",
    "<b>Date created:</b> 2/21/2025\n",
    "\n",
    "<b>Last modified</b> 4/26/2025  \n",
    "\n",
    "<hr></hr>\n",
    "\n",
    "<b>Description:</b>  \n",
    "\n",
    "In this notebook I prepare data and construct a model that predicts the location of a pupil. \n",
    "\n",
    "<b>References:</b>  \n",
    "- Referenced <b>mathworks.com</b> to learn about r-cnn, fast r-cnn, and faster r-cnn.\n",
    "- Referenced and used code from the AI text book 'Applied Machine Learning and AI for Engineers' used in the AI/ML course by <b>Jeff Prosise</b>.\n",
    "- Referenced and used code from <b>Tensorflow</b> to help understand tensorflows framework, use their pre-trained models, and output images with matlibplot.\n",
    "- Referneced paper on Faster Convolutional Neural Networks from Cornell Univeristy called 'Faster R-CNN: Towards Real-Time Object Detection with Region Proposal Networks' by <b>Shaoqing Ren, et al</b>. I used this article to help me understand the Faster R-CNN.\n",
    "\n",
    "<b>Sources:</b>  \n",
    "- mathworks.com: https://www.mathworks.com/help/vision/ug/getting-started-with-r-cnn-fast-r-cnn-and-faster-r-cnn.html\n",
    "- Tensorflow: https://www.tensorflow.org/tutorials/images/cnn\n",
    "- Cornell Univeristy: https://arxiv.org/abs/1506.01497  \n",
    "\n",
    "\n",
    "<hr></hr>\n",
    "  \n"
   ]
  },
  {
   "cell_type": "code",
   "execution_count": null,
   "metadata": {},
   "outputs": [],
   "source": [
    "import matplotlib.pyplot as plt\n",
    "import tensorflow as tf\n",
    "import seaborn as sns\n",
    "import pandas as pd\n",
    "import numpy as np\n",
    "import os as os\n",
    "import cv2\n"
   ]
  },
  {
   "cell_type": "markdown",
   "metadata": {},
   "source": [
    "## Data preprocessing\n",
    "\n",
    "I'm starting with a folder containing all the images and their corresponding annotations as well as a csv that contains the file name of the image and the boundries of the pupil. In order to train a model on this data I will need each image (features) to be a 3D array conatinaing pixel data and the boundries (target) to be an array that corresponds to the correct image in the 3D array of images.\n"
   ]
  },
  {
   "cell_type": "code",
   "execution_count": null,
   "metadata": {},
   "outputs": [],
   "source": [
    "cwd = os.getcwd()\n",
    "df = pd.read_csv(cwd + \"/eye_data.csv\")\n"
   ]
  },
  {
   "cell_type": "code",
   "execution_count": 57,
   "metadata": {},
   "outputs": [
    {
     "data": {
      "text/html": [
       "<div>\n",
       "<style scoped>\n",
       "    .dataframe tbody tr th:only-of-type {\n",
       "        vertical-align: middle;\n",
       "    }\n",
       "\n",
       "    .dataframe tbody tr th {\n",
       "        vertical-align: top;\n",
       "    }\n",
       "\n",
       "    .dataframe thead th {\n",
       "        text-align: right;\n",
       "    }\n",
       "</style>\n",
       "<table border=\"1\" class=\"dataframe\">\n",
       "  <thead>\n",
       "    <tr style=\"text-align: right;\">\n",
       "      <th></th>\n",
       "      <th>file_name</th>\n",
       "      <th>obj_class</th>\n",
       "      <th>x1</th>\n",
       "      <th>y1</th>\n",
       "      <th>x2</th>\n",
       "      <th>y2</th>\n",
       "    </tr>\n",
       "  </thead>\n",
       "  <tbody>\n",
       "    <tr>\n",
       "      <th>0</th>\n",
       "      <td>WIN_20250205_16_00_55_Pro.jpg</td>\n",
       "      <td>pupil</td>\n",
       "      <td>257</td>\n",
       "      <td>163</td>\n",
       "      <td>276</td>\n",
       "      <td>195</td>\n",
       "    </tr>\n",
       "    <tr>\n",
       "      <th>1</th>\n",
       "      <td>WIN_20250205_16_00_56_Pro.jpg</td>\n",
       "      <td>pupil</td>\n",
       "      <td>279</td>\n",
       "      <td>128</td>\n",
       "      <td>308</td>\n",
       "      <td>156</td>\n",
       "    </tr>\n",
       "    <tr>\n",
       "      <th>2</th>\n",
       "      <td>WIN_20250205_16_00_57_Pro.jpg</td>\n",
       "      <td>pupil</td>\n",
       "      <td>313</td>\n",
       "      <td>138</td>\n",
       "      <td>346</td>\n",
       "      <td>170</td>\n",
       "    </tr>\n",
       "    <tr>\n",
       "      <th>3</th>\n",
       "      <td>WIN_20250205_16_00_58_Pro.jpg</td>\n",
       "      <td>pupil</td>\n",
       "      <td>278</td>\n",
       "      <td>141</td>\n",
       "      <td>305</td>\n",
       "      <td>172</td>\n",
       "    </tr>\n",
       "    <tr>\n",
       "      <th>4</th>\n",
       "      <td>WIN_20250205_16_00_59_Pro.jpg</td>\n",
       "      <td>pupil</td>\n",
       "      <td>263</td>\n",
       "      <td>150</td>\n",
       "      <td>286</td>\n",
       "      <td>181</td>\n",
       "    </tr>\n",
       "  </tbody>\n",
       "</table>\n",
       "</div>"
      ],
      "text/plain": [
       "                       file_name obj_class   x1   y1   x2   y2\n",
       "0  WIN_20250205_16_00_55_Pro.jpg     pupil  257  163  276  195\n",
       "1  WIN_20250205_16_00_56_Pro.jpg     pupil  279  128  308  156\n",
       "2  WIN_20250205_16_00_57_Pro.jpg     pupil  313  138  346  170\n",
       "3  WIN_20250205_16_00_58_Pro.jpg     pupil  278  141  305  172\n",
       "4  WIN_20250205_16_00_59_Pro.jpg     pupil  263  150  286  181"
      ]
     },
     "execution_count": 57,
     "metadata": {},
     "output_type": "execute_result"
    }
   ],
   "source": [
    "df.head()"
   ]
  },
  {
   "cell_type": "code",
   "execution_count": null,
   "metadata": {},
   "outputs": [],
   "source": [
    "def view_image(image, x1, y1, x2, y2):\n",
    "    ''' \n",
    "    view_image displays the bounding box on the image.\n",
    "\n",
    "    :param image: a numpy array representing the image.\n",
    "    :param x1: x min coordinates.\n",
    "    :param y1: y min coordinates.\n",
    "    :param x2: x max coordinates.\n",
    "    :param y2: y max coordinates.\n",
    "    '''\n",
    "\n",
    "    image = image.copy()\n",
    "    color = (0, 255, 0)\n",
    "    thickness = 2\n",
    "\n",
    "    cv2.rectangle(image, (x1, y1), (x2, y2), color, thickness)\n",
    "    cv2.imshow('Bounding Box', image)\n",
    "    cv2.waitKey(0)\n",
    "    cv2.destroyAllWindows()\n",
    "    "
   ]
  },
  {
   "cell_type": "code",
   "execution_count": null,
   "metadata": {},
   "outputs": [],
   "source": [
    "img_path = cwd + '\\\\image_data\\\\' + df['file_name'][0]\n",
    "img = cv2.imread(img_path)\n",
    "x1 = df['x1'][0]\n",
    "y1 = df['y1'][0]\n",
    "x2 = df['x2'][0]\n",
    "y2 = df['y2'][0]\n",
    "view_image(img, x1, y1, x2, y2)\n"
   ]
  },
  {
   "cell_type": "markdown",
   "metadata": {},
   "source": [
    "### Splitting data into training, testing, and validation groups.\n",
    "\n",
    "\n",
    "My training data will be 75% of original dataset, testing will be 10%, and validation will be 15%\n"
   ]
  },
  {
   "cell_type": "code",
   "execution_count": null,
   "metadata": {},
   "outputs": [],
   "source": [
    "\n",
    "from sklearn.model_selection import train_test_split\n",
    "\n",
    "X = df['file_name']\n",
    "y = df[['x1', 'y1', 'x2', 'y2']]\n",
    "\n",
    "train_ratio = 0.75\n",
    "validation_ratio = 0.15\n",
    "test_ratio = 0.10\n",
    "\n",
    "X_train, X_temp, y_train, y_temp = train_test_split(X, y, test_size=1 - train_ratio)\n",
    "X_val, X_test, y_val, y_test = train_test_split(X_temp, y_temp, test_size=test_ratio/(test_ratio + validation_ratio)) \n",
    "\n"
   ]
  },
  {
   "cell_type": "markdown",
   "metadata": {},
   "source": [
    "Resetting indices"
   ]
  },
  {
   "cell_type": "code",
   "execution_count": null,
   "metadata": {},
   "outputs": [],
   "source": [
    "X_train = X_train.reset_index(drop=True)\n",
    "y_train = y_train.reset_index(drop=True)\n",
    "X_test = X_test.reset_index(drop=True)\n",
    "y_test = y_test.reset_index(drop=True)\n",
    "X_val = X_val.reset_index(drop=True)\n",
    "y_val = y_val.reset_index(drop=True)\n"
   ]
  },
  {
   "cell_type": "code",
   "execution_count": null,
   "metadata": {},
   "outputs": [],
   "source": [
    "img_path = cwd + '\\\\image_data\\\\' + X_train[1]\n",
    "img= cv2.imread(img_path)\n",
    "x1 = y_train['x1'][1]\n",
    "y1 = y_train['y1'][1]\n",
    "x2 = y_train['x2'][1]\n",
    "y2 = y_train['y2'][1]\n",
    "view_image(img, x1, y1, x2, y2)\n"
   ]
  },
  {
   "cell_type": "code",
   "execution_count": 63,
   "metadata": {},
   "outputs": [
    {
     "data": {
      "text/plain": [
       "0    WIN_20250220_19_59_05_Pro.jpg\n",
       "1    WIN_20250208_18_41_52_Pro.jpg\n",
       "2    WIN_20250208_18_44_29_Pro.jpg\n",
       "3    WIN_20250220_20_00_40_Pro.jpg\n",
       "4    WIN_20250208_18_45_34_Pro.jpg\n",
       "Name: file_name, dtype: object"
      ]
     },
     "execution_count": 63,
     "metadata": {},
     "output_type": "execute_result"
    }
   ],
   "source": [
    "X_val.head()"
   ]
  },
  {
   "cell_type": "code",
   "execution_count": 64,
   "metadata": {},
   "outputs": [
    {
     "data": {
      "text/html": [
       "<div>\n",
       "<style scoped>\n",
       "    .dataframe tbody tr th:only-of-type {\n",
       "        vertical-align: middle;\n",
       "    }\n",
       "\n",
       "    .dataframe tbody tr th {\n",
       "        vertical-align: top;\n",
       "    }\n",
       "\n",
       "    .dataframe thead th {\n",
       "        text-align: right;\n",
       "    }\n",
       "</style>\n",
       "<table border=\"1\" class=\"dataframe\">\n",
       "  <thead>\n",
       "    <tr style=\"text-align: right;\">\n",
       "      <th></th>\n",
       "      <th>x1</th>\n",
       "      <th>y1</th>\n",
       "      <th>x2</th>\n",
       "      <th>y2</th>\n",
       "    </tr>\n",
       "  </thead>\n",
       "  <tbody>\n",
       "    <tr>\n",
       "      <th>0</th>\n",
       "      <td>0</td>\n",
       "      <td>0</td>\n",
       "      <td>0</td>\n",
       "      <td>0</td>\n",
       "    </tr>\n",
       "    <tr>\n",
       "      <th>1</th>\n",
       "      <td>277</td>\n",
       "      <td>152</td>\n",
       "      <td>307</td>\n",
       "      <td>186</td>\n",
       "    </tr>\n",
       "    <tr>\n",
       "      <th>2</th>\n",
       "      <td>332</td>\n",
       "      <td>146</td>\n",
       "      <td>355</td>\n",
       "      <td>167</td>\n",
       "    </tr>\n",
       "    <tr>\n",
       "      <th>3</th>\n",
       "      <td>0</td>\n",
       "      <td>0</td>\n",
       "      <td>0</td>\n",
       "      <td>0</td>\n",
       "    </tr>\n",
       "    <tr>\n",
       "      <th>4</th>\n",
       "      <td>308</td>\n",
       "      <td>164</td>\n",
       "      <td>327</td>\n",
       "      <td>186</td>\n",
       "    </tr>\n",
       "  </tbody>\n",
       "</table>\n",
       "</div>"
      ],
      "text/plain": [
       "    x1   y1   x2   y2\n",
       "0    0    0    0    0\n",
       "1  277  152  307  186\n",
       "2  332  146  355  167\n",
       "3    0    0    0    0\n",
       "4  308  164  327  186"
      ]
     },
     "execution_count": 64,
     "metadata": {},
     "output_type": "execute_result"
    }
   ],
   "source": [
    "y_val.head()"
   ]
  },
  {
   "cell_type": "markdown",
   "metadata": {},
   "source": [
    "### Converting images and boundry data to arrays and normalizing \n",
    "\n",
    "Currently, <b>X_data</b> is a <u>series</u> of file names and <b>y_data</b> is a <u>dataframe</u> containing boundry data. I want the training data to be an <u>array</u> of pixel data and the target data to be an <u>array</u> containing just the boundries with no labels/index. I will create a function that handles both of these tasks. Along with converting data to array format these funcitons will also handle normalizing the data. For the images I do this by dividing the pixel data by 255 since a pixel is comprised of three values ranging from 0 to 255. Dividing by 255 gives me pixel data that ranges from 0 to 1. I treat the boudries similarly and divide x values by the width of my image and y values by the height leaving me with boundry data that ranges form 0 to 1. \n"
   ]
  },
  {
   "cell_type": "code",
   "execution_count": 65,
   "metadata": {},
   "outputs": [
    {
     "data": {
      "text/plain": [
       "0    WIN_20250205_16_22_00_Pro.jpg\n",
       "1    WIN_20250208_18_40_34_Pro.jpg\n",
       "2    WIN_20250208_18_43_45_Pro.jpg\n",
       "3    WIN_20250208_18_41_08_Pro.jpg\n",
       "4    WIN_20250205_16_22_15_Pro.jpg\n",
       "Name: file_name, dtype: object"
      ]
     },
     "execution_count": 65,
     "metadata": {},
     "output_type": "execute_result"
    }
   ],
   "source": [
    "X_test.head()"
   ]
  },
  {
   "cell_type": "code",
   "execution_count": 66,
   "metadata": {},
   "outputs": [
    {
     "data": {
      "text/plain": [
       "str"
      ]
     },
     "execution_count": 66,
     "metadata": {},
     "output_type": "execute_result"
    }
   ],
   "source": [
    "type(X_test[1])"
   ]
  },
  {
   "cell_type": "markdown",
   "metadata": {},
   "source": [
    "#### Creating functions"
   ]
  },
  {
   "cell_type": "code",
   "execution_count": 67,
   "metadata": {},
   "outputs": [],
   "source": [
    "from PIL import Image\n",
    "\n",
    "def images_to_arr(X):\n",
    "    '''\n",
    "    images_to_arr gets image path, loads the image, then converts it to a 3D array. \n",
    "    \n",
    "    :param X: the series of image file names to be converted.\n",
    "    '''\n",
    "    X_data = []\n",
    "    for i in range(len(X)):\n",
    "        img_path = cwd + '\\\\image_data\\\\' + X[i]\n",
    "        img = cv2.imread(img_path)\n",
    "        gray_img = cv2.cvtColor(img, cv2.COLOR_BGR2GRAY)\n",
    "        img_512x512 = cv2.resize(gray_img, (512, 512))       \n",
    "        \n",
    "        X_data.append(img_512x512)\n",
    "    return X_data\n"
   ]
  },
  {
   "cell_type": "code",
   "execution_count": null,
   "metadata": {},
   "outputs": [],
   "source": [
    "def bounds_to_arr(y_data):\n",
    "    '''\n",
    "    bounds_to_arr converts boundry data from a dataframe to a np array containing just the coordinates. \n",
    "        It also normalizes the boundry values to be between 0 and 1\n",
    "\n",
    "    :param y: the dataframe of boundry data to be converted.\n",
    "    '''\n",
    "    final = []\n",
    "    for i in range(len(y_data)):\n",
    "        df = y_data.loc[i]\n",
    "        x1new = round((df['x1']/640), 2)\n",
    "        y1new = round((df['y1']/360), 2)\n",
    "        x2new = round((df['x2']/640), 2)\n",
    "        y2new = round((df['y2']/360), 2)\n",
    "        final.append((x1new, y1new, x2new, y2new))\n",
    "    return np.array(final)\n"
   ]
  },
  {
   "cell_type": "markdown",
   "metadata": {},
   "source": [
    "#### Executing functions"
   ]
  },
  {
   "cell_type": "code",
   "execution_count": null,
   "metadata": {},
   "outputs": [],
   "source": [
    "X_train = images_to_arr(X_train)\n",
    "y_train = bounds_to_arr(y_train)\n",
    "X_test = images_to_arr(X_test)\n",
    "y_test = bounds_to_arr(y_test)\n",
    "X_val = images_to_arr(X_val)\n",
    "y_val = bounds_to_arr(y_val)\n"
   ]
  },
  {
   "cell_type": "markdown",
   "metadata": {},
   "source": [
    "#### Visualizing data after preprocessing is complete"
   ]
  },
  {
   "cell_type": "code",
   "execution_count": null,
   "metadata": {},
   "outputs": [],
   "source": [
    "x1 = int(y_train[56][0]*512)\n",
    "y1 = int(y_train[56][1]*512)\n",
    "x2 = int(y_train[56][2]*512)\n",
    "y2 = int(y_train[56][3]*512)\n",
    "view_image((X_train[56]), x1, y1, x2, y2)\n"
   ]
  },
  {
   "cell_type": "markdown",
   "metadata": {},
   "source": [
    "<hr></hr>"
   ]
  },
  {
   "cell_type": "markdown",
   "metadata": {},
   "source": [
    "### Cropping the image to get just the eyeball"
   ]
  },
  {
   "cell_type": "code",
   "execution_count": null,
   "metadata": {},
   "outputs": [],
   "source": [
    "def crop_image(X_data):\n",
    "    ''' \n",
    "    crop_image removes 1/3 from all sides of the image.\n",
    "\n",
    "    :param X_data: image data as an array.\n",
    "    '''\n",
    "    array = []\n",
    "    for i in range(len(X_data)):\n",
    "        img = X_data[i]\n",
    "        img_small = img[171: 341, 171: 341]\n",
    "        img_norm = np.round(img_small/255, 2)\n",
    "        array.append(img_norm)\n",
    "    return np.array(array)\n"
   ]
  },
  {
   "cell_type": "code",
   "execution_count": null,
   "metadata": {},
   "outputs": [],
   "source": [
    "def crop_bounds(y_data):\n",
    "    final = []\n",
    "    for i in range(len(y_data)):\n",
    "        arr = y_data[i]\n",
    "        x1new = arr[0]-0.333333\n",
    "        y1new = arr[1]-0.333333\n",
    "        x2new = arr[2]-0.333333\n",
    "        y2new = arr[3]-0.333333\n",
    "        final.append((x1new, y1new, x2new, y2new))\n",
    "    return np.array(final)\n"
   ]
  },
  {
   "cell_type": "markdown",
   "metadata": {},
   "source": [
    "### Calling functions"
   ]
  },
  {
   "cell_type": "code",
   "execution_count": null,
   "metadata": {},
   "outputs": [],
   "source": [
    "X_train = crop_image(X_train)\n",
    "X_test = crop_image(X_test)\n",
    "X_val = crop_image(X_val)\n",
    "y_train = crop_bounds(y_train)\n",
    "y_test = crop_bounds(y_test)\n",
    "y_val = crop_bounds(y_val)\n"
   ]
  },
  {
   "cell_type": "code",
   "execution_count": null,
   "metadata": {},
   "outputs": [],
   "source": [
    "x1 = int(y_train[4][0]*512)\n",
    "y1 = int(y_train[4][1]*512)\n",
    "x2 = int(y_train[4][2]*512)\n",
    "y2 = int(y_train[4][3]*512)\n",
    "view_image(X_train[4], x1, y1, x2, y2)\n"
   ]
  },
  {
   "cell_type": "markdown",
   "metadata": {},
   "source": [
    "## Selecting and Building a Model  \n",
    "\n",
    "I am beginning by pretty much copying a model from the 'Applied Machine Learning and AI for Engineers' text book to get a benchmark of where the data is at and what my model might need. The originial code can be found in the text book on page 254. I made one edit to the code and changed the loss funciton to mean squared error since my output layer is of size 4.  "
   ]
  },
  {
   "cell_type": "markdown",
   "metadata": {},
   "source": [
    "### Running a Simple Convolutional Neural Network for Experimentation  \n",
    "\n",
    "- the type of model is important and I should read more about this.  \n",
    "- Conv2D applies a convolution (2-dimentional for images since images are 2D) to the input image. \n",
    "The parameter 64 refers to the number of filters applied in the covolution.\n",
    "a filter is a stack of kernels. In this case each filter has 3 kernels since there are three channels specified in the input_shape param (image are usually RGB hence 3 channels. one for red one for green one for blue)\n",
    "The second param (3, 3) specifies the shape of the kerel applied.\n",
    "I should really learn more about activation functions relu or rectified linear unifying is common but this should be selected based on your data\n",
    "imput shape refers to the size of the image being passed into the layer. In this case I resized all of my images to be 512 pixels wide and 512 pixels high. Each image is not RGB so maybe I should change the channel.\n",
    "- Pooling is done to decrease compute time and helps to control overfitting by reducing the feature map output by the previous layer. \n",
    "Here were using maxpooling2d with shape 2x2 I am pretty sure this slides a 2x2 matrix across the featuremap reducing that 2x2 portion of the \n",
    "image down to a 1x1 block containing the maximum value in the 2x2 matrix.\n",
    "- Fully connected layers require 1D imputs. A flattening layer is added to convert 2D or 3D tensor (tensor is can be thought of as a n-dimentional matrix in this case 2x2 matrix) into a 1D vector\n",
    "- The dense layers convert the flattened feature maps to probabilities. the first param is how many output units youwant\n",
    "In this case my final dense layer has 4 units since I am predicting 4 points for boundries. \n",
    "activation matters and I should look more into this."
   ]
  },
  {
   "cell_type": "code",
   "execution_count": null,
   "metadata": {},
   "outputs": [
    {
     "name": "stdout",
     "output_type": "stream",
     "text": [
      "Model: \"sequential_1\"\n",
      "________________________________________________________________________________\n",
      " Layer (type)                       Output Shape                    Param #     \n",
      "================================================================================\n",
      " conv2d_4 (Conv2D)                  (None, 168, 168, 24)            240         \n",
      "                                                                                \n",
      " max_pooling2d_4 (MaxPooling2D)     (None, 84, 84, 24)              0           \n",
      "                                                                                \n",
      " conv2d_5 (Conv2D)                  (None, 82, 82, 32)              6944        \n",
      "                                                                                \n",
      " max_pooling2d_5 (MaxPooling2D)     (None, 41, 41, 32)              0           \n",
      "                                                                                \n",
      " conv2d_6 (Conv2D)                  (None, 39, 39, 64)              18496       \n",
      "                                                                                \n",
      " max_pooling2d_6 (MaxPooling2D)     (None, 19, 19, 64)              0           \n",
      "                                                                                \n",
      " conv2d_7 (Conv2D)                  (None, 16, 16, 128)             131200      \n",
      "                                                                                \n",
      " max_pooling2d_7 (MaxPooling2D)     (None, 8, 8, 128)               0           \n",
      "                                                                                \n",
      " flatten_1 (Flatten)                (None, 8192)                    0           \n",
      "                                                                                \n",
      " dense_2 (Dense)                    (None, 512)                     4194816     \n",
      "                                                                                \n",
      " dense_3 (Dense)                    (None, 4)                       2052        \n",
      "                                                                                \n",
      "================================================================================\n",
      "Total params: 4,353,748\n",
      "Trainable params: 4,353,748\n",
      "Non-trainable params: 0\n",
      "________________________________________________________________________________\n"
     ]
    }
   ],
   "source": [
    "#one edit I made was to change the loss funciton to mean squared error.\n",
    "from tensorflow.keras.layers import Conv2D, MaxPooling2D, Flatten, Dense\n",
    "from tensorflow.keras.models import Sequential\n",
    "from tensorflow.keras.optimizers import SGD\n",
    "from tensorflow.keras.losses import Huber\n",
    "\n",
    "loss = Huber(delta=1.0)\n",
    "\n",
    "model = Sequential()\n",
    "model.add(Conv2D(24, (3, 3), activation='relu', input_shape=(170, 170, 1)))\n",
    "model.add(MaxPooling2D(2, 2)) \n",
    "model.add(Conv2D(32, (3, 3), activation='relu'))\n",
    "model.add(MaxPooling2D(2, 2))\n",
    "model.add(Conv2D(64, (3, 3), activation='relu'))\n",
    "model.add(MaxPooling2D(2, 2))\n",
    "model.add(Conv2D(128, (4, 4), activation='relu'))\n",
    "model.add(MaxPooling2D(2, 2)) \n",
    "model.add(Flatten())\n",
    "model.add(Dense(512, activation='relu'))\n",
    "model.add(Dense(4, activation='linear'))\n",
    "model.compile(optimizer=SGD(learning_rate=0.01, momentum=0.9), loss=loss,\n",
    "             metrics=['accuracy'])\n",
    "model.summary(line_length=80)\n"
   ]
  },
  {
   "cell_type": "code",
   "execution_count": 77,
   "metadata": {},
   "outputs": [],
   "source": [
    "def view_accuracy_metrics(hist):\n",
    "    ''' \n",
    "    view_accuracy_metrics displays a graph showing training and validation accuracy.\n",
    "\n",
    "    :param hist: object containing info about training process.\n",
    "    '''\n",
    "    sns.set()\n",
    "    acc = hist.history['accuracy']\n",
    "    val_acc = hist.history['val_accuracy']\n",
    "    epochs = range(1, len(acc) + 1)\n",
    "    plt.plot(epochs, acc, '-', label='Training Accuracy')\n",
    "    plt.plot(epochs, val_acc, ':', label='Validation Accuracy')\n",
    "    plt.title('Training and Validation Accuracy')\n",
    "    plt.xlabel('Epoch')\n",
    "    plt.ylabel('Accuracy')\n",
    "    plt.legend(loc='lower right')\n",
    "    plt.plot()"
   ]
  },
  {
   "cell_type": "code",
   "execution_count": 78,
   "metadata": {},
   "outputs": [
    {
     "name": "stdout",
     "output_type": "stream",
     "text": [
      "Epoch 1/15\n",
      "10/10 [==============================] - 2s 213ms/step - loss: 0.0167 - accuracy: 0.4964 - val_loss: 0.0097 - val_accuracy: 0.3636\n",
      "Epoch 2/15\n",
      "10/10 [==============================] - 2s 189ms/step - loss: 0.0151 - accuracy: 0.3587 - val_loss: 0.0094 - val_accuracy: 0.5273\n",
      "Epoch 3/15\n",
      "10/10 [==============================] - 4s 385ms/step - loss: 0.0148 - accuracy: 0.3478 - val_loss: 0.0095 - val_accuracy: 0.3636\n",
      "Epoch 4/15\n",
      "10/10 [==============================] - 4s 427ms/step - loss: 0.0145 - accuracy: 0.4891 - val_loss: 0.0095 - val_accuracy: 0.3818\n",
      "Epoch 5/15\n",
      "10/10 [==============================] - 4s 410ms/step - loss: 0.0143 - accuracy: 0.4783 - val_loss: 0.0091 - val_accuracy: 0.4000\n",
      "Epoch 6/15\n",
      "10/10 [==============================] - 4s 372ms/step - loss: 0.0141 - accuracy: 0.4710 - val_loss: 0.0090 - val_accuracy: 0.4545\n",
      "Epoch 7/15\n",
      "10/10 [==============================] - 3s 326ms/step - loss: 0.0140 - accuracy: 0.5109 - val_loss: 0.0091 - val_accuracy: 0.4545\n",
      "Epoch 8/15\n",
      "10/10 [==============================] - 3s 321ms/step - loss: 0.0136 - accuracy: 0.5399 - val_loss: 0.0086 - val_accuracy: 0.4909\n",
      "Epoch 9/15\n",
      "10/10 [==============================] - 3s 347ms/step - loss: 0.0134 - accuracy: 0.5580 - val_loss: 0.0085 - val_accuracy: 0.4909\n",
      "Epoch 10/15\n",
      "10/10 [==============================] - 3s 337ms/step - loss: 0.0130 - accuracy: 0.5543 - val_loss: 0.0083 - val_accuracy: 0.4727\n",
      "Epoch 11/15\n",
      "10/10 [==============================] - 3s 320ms/step - loss: 0.0127 - accuracy: 0.5942 - val_loss: 0.0083 - val_accuracy: 0.6000\n",
      "Epoch 12/15\n",
      "10/10 [==============================] - 3s 335ms/step - loss: 0.0122 - accuracy: 0.6268 - val_loss: 0.0081 - val_accuracy: 0.5818\n",
      "Epoch 13/15\n",
      "10/10 [==============================] - 3s 322ms/step - loss: 0.0117 - accuracy: 0.6051 - val_loss: 0.0076 - val_accuracy: 0.4545\n",
      "Epoch 14/15\n",
      "10/10 [==============================] - 3s 322ms/step - loss: 0.0111 - accuracy: 0.5870 - val_loss: 0.0068 - val_accuracy: 0.6182\n",
      "Epoch 15/15\n",
      "10/10 [==============================] - 3s 339ms/step - loss: 0.0106 - accuracy: 0.6558 - val_loss: 0.0071 - val_accuracy: 0.6182\n"
     ]
    }
   ],
   "source": [
    "hist = model.fit(X_train, y_train,\n",
    "                validation_data=(X_val, y_val),\n",
    "                batch_size=30, epochs=15)"
   ]
  },
  {
   "cell_type": "code",
   "execution_count": 79,
   "metadata": {},
   "outputs": [
    {
     "data": {
      "image/png": "[encoded data removed]",
      "text/plain": [
       "<Figure size 640x480 with 1 Axes>"
      ]
     },
     "metadata": {},
     "output_type": "display_data"
    }
   ],
   "source": [
    "view_accuracy_metrics(hist)"
   ]
  },
  {
   "cell_type": "code",
   "execution_count": 80,
   "metadata": {},
   "outputs": [
    {
     "name": "stdout",
     "output_type": "stream",
     "text": [
      "2/2 [==============================] - 0s 14ms/step\n"
     ]
    }
   ],
   "source": [
    "bounds = model.predict(X_test)"
   ]
  },
  {
   "cell_type": "code",
   "execution_count": 129,
   "metadata": {},
   "outputs": [
    {
     "data": {
      "text/plain": [
       "array([[ 0.045476  ,  0.08257373,  0.07179084,  0.14331627],\n",
       "       [ 0.15082982,  0.1322296 ,  0.1782518 ,  0.19003028],\n",
       "       [ 0.12890488,  0.07855161,  0.14366212,  0.18055636],\n",
       "       [-0.07760832, -0.02170655, -0.07280105,  0.02678266],\n",
       "       [ 0.07053925,  0.08739633,  0.11859187,  0.1701971 ],\n",
       "       [ 0.17280188,  0.15384409,  0.19745244,  0.20107563],\n",
       "       [ 0.14098775,  0.05782094,  0.20221542,  0.15753001],\n",
       "       [ 0.20381138,  0.12634596,  0.25052893,  0.18898672],\n",
       "       [-0.01373095,  0.04733337,  0.0228324 ,  0.10840412],\n",
       "       [ 0.17818652,  0.05438013,  0.23438083,  0.16157255],\n",
       "       [ 0.05770892,  0.10933042,  0.0954676 ,  0.19423564],\n",
       "       [ 0.05716028,  0.08819225,  0.07714114,  0.16695452],\n",
       "       [ 0.13344997,  0.00601923,  0.19534351,  0.10753027],\n",
       "       [ 0.17572373,  0.10419023,  0.21798451,  0.17827952],\n",
       "       [ 0.13901255,  0.13727438,  0.18287383,  0.23165676],\n",
       "       [ 0.06997666, -0.0291951 ,  0.09539597,  0.0317311 ],\n",
       "       [-0.16281758, -0.3388795 , -0.09084913, -0.23130453],\n",
       "       [-0.4863308 , -0.51444614, -0.4755131 , -0.4926659 ],\n",
       "       [ 0.15230227,  0.05310893,  0.18067561,  0.10738065],\n",
       "       [ 0.11086726,  0.12018085,  0.13910784,  0.19702052],\n",
       "       [ 0.20892364,  0.12645641,  0.25605905,  0.19624437],\n",
       "       [ 0.17547661,  0.1047167 ,  0.22447507,  0.18744141],\n",
       "       [ 0.14574789,  0.08959034,  0.15776892,  0.14492361],\n",
       "       [ 0.04313492,  0.06945456,  0.08506668,  0.14500442],\n",
       "       [-0.2787618 , -0.4078972 , -0.25186187, -0.34413022],\n",
       "       [ 0.12093985, -0.00554307,  0.17183937,  0.08232092],\n",
       "       [ 0.0580772 ,  0.05489033,  0.1005431 ,  0.13451275],\n",
       "       [ 0.0559521 ,  0.10407004,  0.09892486,  0.20205188],\n",
       "       [ 0.08264832,  0.04274099,  0.13964325,  0.11769272],\n",
       "       [ 0.14139938,  0.09193848,  0.1856791 ,  0.20203292],\n",
       "       [ 0.06628514,  0.05648237,  0.08623832,  0.14292212],\n",
       "       [ 0.1217933 ,  0.02221075,  0.18348955,  0.1325399 ],\n",
       "       [ 0.12742014,  0.07431152,  0.14275594,  0.12841892],\n",
       "       [ 0.11900529,  0.07291337,  0.15415956,  0.14823884],\n",
       "       [ 0.20487058,  0.13555934,  0.2510615 ,  0.19690055],\n",
       "       [ 0.13844925,  0.10163426,  0.17895694,  0.19264644],\n",
       "       [ 0.1722287 ,  0.11510395,  0.21632181,  0.18809259]],\n",
       "      dtype=float32)"
      ]
     },
     "execution_count": 129,
     "metadata": {},
     "output_type": "execute_result"
    }
   ],
   "source": [
    "bounds"
   ]
  },
  {
   "cell_type": "code",
   "execution_count": 81,
   "metadata": {},
   "outputs": [],
   "source": [
    "view_image(X_test[3], int(bounds[3][0]*512),\n",
    "            int(bounds[3][1]*512), int(bounds[3][2]*512), int(bounds[3][3]*512))"
   ]
  },
  {
   "cell_type": "markdown",
   "metadata": {},
   "source": [
    "#### Copying VGG16 model"
   ]
  },
  {
   "cell_type": "code",
   "execution_count": 65,
   "metadata": {},
   "outputs": [],
   "source": [
    "from tensorflow.keras.models import Sequential\n",
    "from tensorflow.keras.layers import Conv2D, MaxPooling2D, Flatten, Dense"
   ]
  },
  {
   "cell_type": "code",
   "execution_count": 66,
   "metadata": {},
   "outputs": [],
   "source": [
    "def show_feat_map(model, data):\n",
    "    ''' \n",
    "    show_feat_map displays the feature map (image) after each filter is applied. \n",
    "\n",
    "    :param result: takes in the 4D tensor output from MaxPooling2D layer with format (batch_size, rows, cols, channels). \n",
    "    '''\n",
    "\n",
    "    model.build()\n",
    "    model.summary()\n",
    "    result = model.predict(data)\n",
    "    for i in range(64):\n",
    "        feature_img = result[0, :, :, i]\n",
    "        ax = plt.subplot(8, 8, i+1)\n",
    "        ax.set_xticks([])\n",
    "        ax.set_yticks([])\n",
    "        plt.imshow(feature_img, cmap='grey')\n",
    "    plt.show\n"
   ]
  },
  {
   "cell_type": "code",
   "execution_count": 77,
   "metadata": {},
   "outputs": [],
   "source": [
    "model = Sequential()"
   ]
  },
  {
   "cell_type": "code",
   "execution_count": 78,
   "metadata": {},
   "outputs": [],
   "source": [
    "#Block 1\n",
    "model.add(Conv2D(64, kernel_size=(3, 3), padding='same', activation='relu', input_shape=(170, 170, 1)))\n",
    "model.add(Conv2D(64, kernel_size=(3, 3), padding='same', activation='relu'))\n",
    "model.add(MaxPooling2D(pool_size=(2, 2), strides=(2, 2))) "
   ]
  },
  {
   "cell_type": "code",
   "execution_count": 79,
   "metadata": {},
   "outputs": [],
   "source": [
    "#show_feat_map(model, X_test)"
   ]
  },
  {
   "cell_type": "code",
   "execution_count": 80,
   "metadata": {},
   "outputs": [],
   "source": [
    "#Block 2\n",
    "model.add(Conv2D(128, kernel_size=(3, 3), padding='same', activation='relu'))\n",
    "model.add(Conv2D(128, kernel_size=(3, 3), padding='same', activation='relu'))\n",
    "model.add(MaxPooling2D(pool_size=(2, 2), strides=(2, 2)))"
   ]
  },
  {
   "cell_type": "code",
   "execution_count": 81,
   "metadata": {},
   "outputs": [],
   "source": [
    "\n",
    "#Block 3\n",
    "model.add(Conv2D(256, kernel_size=(3, 3), padding='same', activation='relu'))\n",
    "model.add(Conv2D(256, kernel_size=(3, 3), padding='same', activation='relu'))\n",
    "model.add(MaxPooling2D(pool_size=(2, 2), strides=(2, 2)))"
   ]
  },
  {
   "cell_type": "code",
   "execution_count": 82,
   "metadata": {},
   "outputs": [],
   "source": [
    "#show_feat_map(model, X_test)"
   ]
  },
  {
   "cell_type": "code",
   "execution_count": 83,
   "metadata": {},
   "outputs": [],
   "source": [
    "#Block 4\n",
    "model.add(Conv2D(512, kernel_size=(3, 3), padding='same', activation='relu'))\n",
    "model.add(Conv2D(512, kernel_size=(3, 3), padding='same', activation='relu'))\n",
    "model.add(Conv2D(512, kernel_size=(3, 3), padding='same', activation='relu'))\n",
    "model.add(MaxPooling2D(pool_size=(2, 2), strides=(2, 2)))"
   ]
  },
  {
   "cell_type": "code",
   "execution_count": 84,
   "metadata": {},
   "outputs": [],
   "source": [
    "#Block 5\n",
    "model.add(Conv2D(512, kernel_size=(3, 3), padding='same', activation='relu'))\n",
    "model.add(Conv2D(512, kernel_size=(3, 3), padding='same', activation='relu'))\n",
    "model.add(Conv2D(512, kernel_size=(3, 3), padding='same', activation='relu'))\n",
    "model.add(MaxPooling2D(pool_size=(2, 2), strides=(2, 2)))"
   ]
  },
  {
   "cell_type": "code",
   "execution_count": 85,
   "metadata": {},
   "outputs": [],
   "source": [
    "#show_feat_map(model, X_test)"
   ]
  },
  {
   "cell_type": "code",
   "execution_count": 86,
   "metadata": {},
   "outputs": [],
   "source": [
    "model.add(Flatten())\n",
    "model.add(Dense(512, activation='relu'))\n",
    "model.add(Dense(512, activation='relu'))\n",
    "model.add(Dense(4, activation='linear'))"
   ]
  },
  {
   "cell_type": "code",
   "execution_count": 87,
   "metadata": {},
   "outputs": [
    {
     "name": "stdout",
     "output_type": "stream",
     "text": [
      "Model: \"sequential_4\"\n",
      "_________________________________________________________________\n",
      " Layer (type)                Output Shape              Param #   \n",
      "=================================================================\n",
      " conv2d_20 (Conv2D)          (None, 170, 170, 64)      640       \n",
      "                                                                 \n",
      " conv2d_21 (Conv2D)          (None, 170, 170, 64)      36928     \n",
      "                                                                 \n",
      " max_pooling2d_13 (MaxPoolin  (None, 85, 85, 64)       0         \n",
      " g2D)                                                            \n",
      "                                                                 \n",
      " conv2d_22 (Conv2D)          (None, 85, 85, 128)       73856     \n",
      "                                                                 \n",
      " conv2d_23 (Conv2D)          (None, 85, 85, 128)       147584    \n",
      "                                                                 \n",
      " max_pooling2d_14 (MaxPoolin  (None, 42, 42, 128)      0         \n",
      " g2D)                                                            \n",
      "                                                                 \n",
      " conv2d_24 (Conv2D)          (None, 42, 42, 256)       295168    \n",
      "                                                                 \n",
      " conv2d_25 (Conv2D)          (None, 42, 42, 256)       590080    \n",
      "                                                                 \n",
      " max_pooling2d_15 (MaxPoolin  (None, 21, 21, 256)      0         \n",
      " g2D)                                                            \n",
      "                                                                 \n",
      " conv2d_26 (Conv2D)          (None, 21, 21, 512)       1180160   \n",
      "                                                                 \n",
      " conv2d_27 (Conv2D)          (None, 21, 21, 512)       2359808   \n",
      "                                                                 \n",
      " conv2d_28 (Conv2D)          (None, 21, 21, 512)       2359808   \n",
      "                                                                 \n",
      " max_pooling2d_16 (MaxPoolin  (None, 10, 10, 512)      0         \n",
      " g2D)                                                            \n",
      "                                                                 \n",
      " conv2d_29 (Conv2D)          (None, 10, 10, 512)       2359808   \n",
      "                                                                 \n",
      " conv2d_30 (Conv2D)          (None, 10, 10, 512)       2359808   \n",
      "                                                                 \n",
      " conv2d_31 (Conv2D)          (None, 10, 10, 512)       2359808   \n",
      "                                                                 \n",
      " max_pooling2d_17 (MaxPoolin  (None, 5, 5, 512)        0         \n",
      " g2D)                                                            \n",
      "                                                                 \n",
      " flatten_3 (Flatten)         (None, 12800)             0         \n",
      "                                                                 \n",
      " dense_7 (Dense)             (None, 512)               6554112   \n",
      "                                                                 \n",
      " dense_8 (Dense)             (None, 512)               262656    \n",
      "                                                                 \n",
      " dense_9 (Dense)             (None, 4)                 2052      \n",
      "                                                                 \n",
      "=================================================================\n",
      "Total params: 20,942,276\n",
      "Trainable params: 20,942,276\n",
      "Non-trainable params: 0\n",
      "_________________________________________________________________\n"
     ]
    }
   ],
   "source": [
    "model.compile(optimizer=\"adam\", loss=\"mse\", metrics=[\"mae\"])\n",
    "model.summary()"
   ]
  },
  {
   "cell_type": "code",
   "execution_count": 88,
   "metadata": {},
   "outputs": [
    {
     "name": "stdout",
     "output_type": "stream",
     "text": [
      "Epoch 1/12\n",
      "28/28 [==============================] - 84s 3s/step - loss: 0.0415 - mae: 0.1487 - val_loss: 0.0224 - val_mae: 0.1292\n",
      "Epoch 2/12\n",
      "28/28 [==============================] - 76s 3s/step - loss: 0.0298 - mae: 0.1293 - val_loss: 0.0193 - val_mae: 0.1078\n",
      "Epoch 3/12\n",
      "28/28 [==============================] - 77s 3s/step - loss: 0.0289 - mae: 0.1259 - val_loss: 0.0190 - val_mae: 0.1043\n",
      "Epoch 4/12\n",
      "28/28 [==============================] - 75s 3s/step - loss: 0.0287 - mae: 0.1208 - val_loss: 0.0187 - val_mae: 0.1010\n",
      "Epoch 5/12\n",
      "28/28 [==============================] - 74s 3s/step - loss: 0.0288 - mae: 0.1153 - val_loss: 0.0186 - val_mae: 0.1001\n",
      "Epoch 6/12\n",
      "28/28 [==============================] - 74s 3s/step - loss: 0.0289 - mae: 0.1270 - val_loss: 0.0199 - val_mae: 0.1127\n",
      "Epoch 7/12\n",
      "28/28 [==============================] - 74s 3s/step - loss: 0.0287 - mae: 0.1189 - val_loss: 0.0181 - val_mae: 0.0946\n",
      "Epoch 8/12\n",
      "28/28 [==============================] - 77s 3s/step - loss: 0.0287 - mae: 0.1188 - val_loss: 0.0190 - val_mae: 0.1044\n",
      "Epoch 9/12\n",
      "28/28 [==============================] - 74s 3s/step - loss: 0.0287 - mae: 0.1169 - val_loss: 0.0190 - val_mae: 0.1043\n",
      "Epoch 10/12\n",
      "28/28 [==============================] - 74s 3s/step - loss: 0.0288 - mae: 0.1183 - val_loss: 0.0190 - val_mae: 0.1050\n",
      "Epoch 11/12\n",
      "28/28 [==============================] - 74s 3s/step - loss: 0.0289 - mae: 0.1256 - val_loss: 0.0185 - val_mae: 0.0993\n",
      "Epoch 12/12\n",
      "28/28 [==============================] - 75s 3s/step - loss: 0.0289 - mae: 0.1153 - val_loss: 0.0187 - val_mae: 0.1017\n"
     ]
    }
   ],
   "source": [
    "hist = model.fit(X_train, y_train,\n",
    "                validation_data=(X_test, y_test),\n",
    "                batch_size=10, epochs=12)"
   ]
  },
  {
   "cell_type": "code",
   "execution_count": 90,
   "metadata": {},
   "outputs": [
    {
     "ename": "KeyError",
     "evalue": "'accuracy'",
     "output_type": "error",
     "traceback": [
      "\u001b[1;31m---------------------------------------------------------------------------\u001b[0m",
      "\u001b[1;31mKeyError\u001b[0m                                  Traceback (most recent call last)",
      "Cell \u001b[1;32mIn[90], line 1\u001b[0m\n\u001b[1;32m----> 1\u001b[0m \u001b[43mview_accuracy_metrics\u001b[49m\u001b[43m(\u001b[49m\u001b[43mhist\u001b[49m\u001b[43m)\u001b[49m\n",
      "Cell \u001b[1;32mIn[59], line 8\u001b[0m, in \u001b[0;36mview_accuracy_metrics\u001b[1;34m(hist)\u001b[0m\n\u001b[0;32m      2\u001b[0m \u001b[38;5;250m\u001b[39m\u001b[38;5;124;03m''' \u001b[39;00m\n\u001b[0;32m      3\u001b[0m \u001b[38;5;124;03mview_accuracy_metrics displays a graph showing training and validation accuracy.\u001b[39;00m\n\u001b[0;32m      4\u001b[0m \n\u001b[0;32m      5\u001b[0m \u001b[38;5;124;03m:param hist: object containing info about training process.\u001b[39;00m\n\u001b[0;32m      6\u001b[0m \u001b[38;5;124;03m'''\u001b[39;00m\n\u001b[0;32m      7\u001b[0m sns\u001b[38;5;241m.\u001b[39mset()\n\u001b[1;32m----> 8\u001b[0m acc \u001b[38;5;241m=\u001b[39m \u001b[43mhist\u001b[49m\u001b[38;5;241;43m.\u001b[39;49m\u001b[43mhistory\u001b[49m\u001b[43m[\u001b[49m\u001b[38;5;124;43m'\u001b[39;49m\u001b[38;5;124;43maccuracy\u001b[39;49m\u001b[38;5;124;43m'\u001b[39;49m\u001b[43m]\u001b[49m\n\u001b[0;32m      9\u001b[0m val_acc \u001b[38;5;241m=\u001b[39m hist\u001b[38;5;241m.\u001b[39mhistory[\u001b[38;5;124m'\u001b[39m\u001b[38;5;124mval_accuracy\u001b[39m\u001b[38;5;124m'\u001b[39m]\n\u001b[0;32m     10\u001b[0m epochs \u001b[38;5;241m=\u001b[39m \u001b[38;5;28mrange\u001b[39m(\u001b[38;5;241m1\u001b[39m, \u001b[38;5;28mlen\u001b[39m(acc) \u001b[38;5;241m+\u001b[39m \u001b[38;5;241m1\u001b[39m)\n",
      "\u001b[1;31mKeyError\u001b[0m: 'accuracy'"
     ]
    }
   ],
   "source": [
    "view_accuracy_metrics(hist)"
   ]
  },
  {
   "cell_type": "code",
   "execution_count": 91,
   "metadata": {},
   "outputs": [
    {
     "name": "stdout",
     "output_type": "stream",
     "text": [
      "2/2 [==============================] - 1s 200ms/step\n"
     ]
    }
   ],
   "source": [
    "bounds = model.predict(X_test)\n",
    "view_image(X_test[0], int(bounds[1][0]*512),\n",
    "            int(bounds[1][1]*512), int(bounds[1][2]*512), int(bounds[1][3]*512))"
   ]
  },
  {
   "cell_type": "code",
   "execution_count": null,
   "metadata": {},
   "outputs": [],
   "source": []
  }
 ],
 "metadata": {
  "kernelspec": {
   "display_name": "eyetracker",
   "language": "python",
   "name": "python3"
  },
  "language_info": {
   "codemirror_mode": {
    "name": "ipython",
    "version": 3
   },
   "file_extension": ".py",
   "mimetype": "text/x-python",
   "name": "python",
   "nbconvert_exporter": "python",
   "pygments_lexer": "ipython3",
   "version": "3.10.16"
  }
 },
 "nbformat": 4,
 "nbformat_minor": 2
}
