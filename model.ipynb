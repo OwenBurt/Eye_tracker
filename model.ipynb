{
 "cells": [
  {
   "cell_type": "markdown",
   "metadata": {},
   "source": [
    "Author: Owen Burt  \n",
    "Date created: 2/21/2025  \n",
    "Description:  \n",
    "References:  \n",
    "Sources:  "
   ]
  },
  {
   "cell_type": "code",
   "execution_count": 6,
   "metadata": {},
   "outputs": [],
   "source": [
    "import tensorflow as tf\n",
    "import pandas as pd\n",
    "import cv2\n",
    "import os as os\n",
    "import glob"
   ]
  },
  {
   "cell_type": "markdown",
   "metadata": {},
   "source": [
    "### Creating training and testing data"
   ]
  },
  {
   "cell_type": "code",
   "execution_count": 8,
   "metadata": {},
   "outputs": [
    {
     "name": "stdout",
     "output_type": "stream",
     "text": [
      "c:\\Users\\owend\\Eye_tracker\\Eye_tracker\n"
     ]
    }
   ],
   "source": [
    "cwd = os.getcwd()\n",
    "print(cwd)"
   ]
  },
  {
   "cell_type": "code",
   "execution_count": 13,
   "metadata": {},
   "outputs": [],
   "source": [
    "df = pd.read_csv(cwd + \"/eye_data.csv\")"
   ]
  },
  {
   "cell_type": "code",
   "execution_count": 14,
   "metadata": {},
   "outputs": [
    {
     "data": {
      "text/html": [
       "<div>\n",
       "<style scoped>\n",
       "    .dataframe tbody tr th:only-of-type {\n",
       "        vertical-align: middle;\n",
       "    }\n",
       "\n",
       "    .dataframe tbody tr th {\n",
       "        vertical-align: top;\n",
       "    }\n",
       "\n",
       "    .dataframe thead th {\n",
       "        text-align: right;\n",
       "    }\n",
       "</style>\n",
       "<table border=\"1\" class=\"dataframe\">\n",
       "  <thead>\n",
       "    <tr style=\"text-align: right;\">\n",
       "      <th></th>\n",
       "      <th>file_name</th>\n",
       "      <th>obj_class</th>\n",
       "      <th>x1</th>\n",
       "      <th>y1</th>\n",
       "      <th>x2</th>\n",
       "      <th>y2</th>\n",
       "    </tr>\n",
       "  </thead>\n",
       "  <tbody>\n",
       "    <tr>\n",
       "      <th>0</th>\n",
       "      <td>WIN_20250205_16_00_55_Pro.jpg</td>\n",
       "      <td>pupil</td>\n",
       "      <td>257</td>\n",
       "      <td>163</td>\n",
       "      <td>276</td>\n",
       "      <td>195</td>\n",
       "    </tr>\n",
       "    <tr>\n",
       "      <th>1</th>\n",
       "      <td>WIN_20250205_16_00_56_Pro.jpg</td>\n",
       "      <td>pupil</td>\n",
       "      <td>279</td>\n",
       "      <td>128</td>\n",
       "      <td>308</td>\n",
       "      <td>156</td>\n",
       "    </tr>\n",
       "    <tr>\n",
       "      <th>2</th>\n",
       "      <td>WIN_20250205_16_00_57_Pro.jpg</td>\n",
       "      <td>pupil</td>\n",
       "      <td>313</td>\n",
       "      <td>138</td>\n",
       "      <td>346</td>\n",
       "      <td>170</td>\n",
       "    </tr>\n",
       "    <tr>\n",
       "      <th>3</th>\n",
       "      <td>WIN_20250205_16_00_58_Pro.jpg</td>\n",
       "      <td>pupil</td>\n",
       "      <td>278</td>\n",
       "      <td>141</td>\n",
       "      <td>305</td>\n",
       "      <td>172</td>\n",
       "    </tr>\n",
       "    <tr>\n",
       "      <th>4</th>\n",
       "      <td>WIN_20250205_16_00_59_Pro.jpg</td>\n",
       "      <td>pupil</td>\n",
       "      <td>263</td>\n",
       "      <td>150</td>\n",
       "      <td>286</td>\n",
       "      <td>181</td>\n",
       "    </tr>\n",
       "    <tr>\n",
       "      <th>...</th>\n",
       "      <td>...</td>\n",
       "      <td>...</td>\n",
       "      <td>...</td>\n",
       "      <td>...</td>\n",
       "      <td>...</td>\n",
       "      <td>...</td>\n",
       "    </tr>\n",
       "    <tr>\n",
       "      <th>363</th>\n",
       "      <td>WIN_20250220_20_01_15_Pro.jpg</td>\n",
       "      <td>NEGATIVE</td>\n",
       "      <td>0</td>\n",
       "      <td>0</td>\n",
       "      <td>0</td>\n",
       "      <td>0</td>\n",
       "    </tr>\n",
       "    <tr>\n",
       "      <th>364</th>\n",
       "      <td>WIN_20250220_20_01_17_Pro.jpg</td>\n",
       "      <td>NEGATIVE</td>\n",
       "      <td>0</td>\n",
       "      <td>0</td>\n",
       "      <td>0</td>\n",
       "      <td>0</td>\n",
       "    </tr>\n",
       "    <tr>\n",
       "      <th>365</th>\n",
       "      <td>WIN_20250220_20_01_19_Pro.jpg</td>\n",
       "      <td>NEGATIVE</td>\n",
       "      <td>0</td>\n",
       "      <td>0</td>\n",
       "      <td>0</td>\n",
       "      <td>0</td>\n",
       "    </tr>\n",
       "    <tr>\n",
       "      <th>366</th>\n",
       "      <td>WIN_20250220_20_01_28_Pro.jpg</td>\n",
       "      <td>NEGATIVE</td>\n",
       "      <td>0</td>\n",
       "      <td>0</td>\n",
       "      <td>0</td>\n",
       "      <td>0</td>\n",
       "    </tr>\n",
       "    <tr>\n",
       "      <th>367</th>\n",
       "      <td>WIN_20250220_20_01_30_Pro.jpg</td>\n",
       "      <td>NEGATIVE</td>\n",
       "      <td>0</td>\n",
       "      <td>0</td>\n",
       "      <td>0</td>\n",
       "      <td>0</td>\n",
       "    </tr>\n",
       "  </tbody>\n",
       "</table>\n",
       "<p>368 rows × 6 columns</p>\n",
       "</div>"
      ],
      "text/plain": [
       "                         file_name obj_class   x1   y1   x2   y2\n",
       "0    WIN_20250205_16_00_55_Pro.jpg     pupil  257  163  276  195\n",
       "1    WIN_20250205_16_00_56_Pro.jpg     pupil  279  128  308  156\n",
       "2    WIN_20250205_16_00_57_Pro.jpg     pupil  313  138  346  170\n",
       "3    WIN_20250205_16_00_58_Pro.jpg     pupil  278  141  305  172\n",
       "4    WIN_20250205_16_00_59_Pro.jpg     pupil  263  150  286  181\n",
       "..                             ...       ...  ...  ...  ...  ...\n",
       "363  WIN_20250220_20_01_15_Pro.jpg  NEGATIVE    0    0    0    0\n",
       "364  WIN_20250220_20_01_17_Pro.jpg  NEGATIVE    0    0    0    0\n",
       "365  WIN_20250220_20_01_19_Pro.jpg  NEGATIVE    0    0    0    0\n",
       "366  WIN_20250220_20_01_28_Pro.jpg  NEGATIVE    0    0    0    0\n",
       "367  WIN_20250220_20_01_30_Pro.jpg  NEGATIVE    0    0    0    0\n",
       "\n",
       "[368 rows x 6 columns]"
      ]
     },
     "execution_count": 14,
     "metadata": {},
     "output_type": "execute_result"
    }
   ],
   "source": [
    "df"
   ]
  }
 ],
 "metadata": {
  "kernelspec": {
   "display_name": "eyetracker",
   "language": "python",
   "name": "python3"
  },
  "language_info": {
   "codemirror_mode": {
    "name": "ipython",
    "version": 3
   },
   "file_extension": ".py",
   "mimetype": "text/x-python",
   "name": "python",
   "nbconvert_exporter": "python",
   "pygments_lexer": "ipython3",
   "version": "3.10.13"
  }
 },
 "nbformat": 4,
 "nbformat_minor": 2
}
