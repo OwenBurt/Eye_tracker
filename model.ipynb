{
 "cells": [
  {
   "cell_type": "markdown",
   "metadata": {},
   "source": [
    "# Eye-tracker pupil detection model   \n",
    "<hr></hr>\n",
    "<b>Author:</b> Owen Burt  \n",
    "\n",
    "<b>Date created:</b> 2/21/2025\n",
    "\n",
    "<b>Last modified</b> 3/6/2025  \n",
    "\n",
    "<hr></hr>\n",
    "\n",
    "<b>Description:</b>  \n",
    "\n",
    "In this notebook I prepare data and construct a model that predicts the location of a pupil. \n",
    "\n",
    "<b>References:</b>  \n",
    "- Referenced <b>mathworks.com</b> to learn about r-cnn, fast r-cnn, and faster r-cnn.\n",
    "- Referenced and used code from the AI text book 'Applied Machine Learning and AI for Engineers' used in the AI/ML course by <b>Jeff Prosise</b>.\n",
    "- Referenced and used code from <b>Tensorflow</b> to help understand tensorflows framework, use their pre-trained models, and output images with matlibplot.\n",
    "- Referneced paper on Faster Convolutional Neural Networks from Cornell Univeristy called 'Faster R-CNN: Towards Real-Time Object Detection with Region Proposal Networks' by <b>Shaoqing Ren, et al</b>. I used this article to help me understand the Faster R-CNN.\n",
    "\n",
    "<b>Sources:</b>  \n",
    "- mathworks.com: https://www.mathworks.com/help/vision/ug/getting-started-with-r-cnn-fast-r-cnn-and-faster-r-cnn.html\n",
    "- Tensorflow: https://www.tensorflow.org/tutorials/images/cnn\n",
    "- Cornell Univeristy: https://arxiv.org/abs/1506.01497  \n",
    "\n",
    "\n",
    "<hr></hr>\n",
    "  \n"
   ]
  },
  {
   "cell_type": "code",
   "execution_count": 106,
   "metadata": {},
   "outputs": [],
   "source": [
    "import tensorflow as tf\n",
    "import pandas as pd\n",
    "import numpy as np\n",
    "import cv2\n",
    "import os as os\n",
    "import matplotlib.pyplot as plt\n",
    "import seaborn as sns"
   ]
  },
  {
   "cell_type": "markdown",
   "metadata": {},
   "source": [
    "## Data preprocessing\n",
    "\n",
    "I'm starting with a folder containing all the images and their corresponding annotations as well as a csv that contains the file name of the image and the boundries of the pupil. In order to train a model on this data I will need each image (features) to be a 3D array conatinaing pixel data and the boundries (target) to be an array that corresponds to the correct image in the 3D array of images.\n"
   ]
  },
  {
   "cell_type": "code",
   "execution_count": 107,
   "metadata": {},
   "outputs": [],
   "source": [
    "cwd = os.getcwd()\n",
    "df = pd.read_csv(cwd + \"/eye_data.csv\")"
   ]
  },
  {
   "cell_type": "code",
   "execution_count": 108,
   "metadata": {},
   "outputs": [
    {
     "data": {
      "text/html": [
       "<div>\n",
       "<style scoped>\n",
       "    .dataframe tbody tr th:only-of-type {\n",
       "        vertical-align: middle;\n",
       "    }\n",
       "\n",
       "    .dataframe tbody tr th {\n",
       "        vertical-align: top;\n",
       "    }\n",
       "\n",
       "    .dataframe thead th {\n",
       "        text-align: right;\n",
       "    }\n",
       "</style>\n",
       "<table border=\"1\" class=\"dataframe\">\n",
       "  <thead>\n",
       "    <tr style=\"text-align: right;\">\n",
       "      <th></th>\n",
       "      <th>file_name</th>\n",
       "      <th>obj_class</th>\n",
       "      <th>x1</th>\n",
       "      <th>y1</th>\n",
       "      <th>x2</th>\n",
       "      <th>y2</th>\n",
       "    </tr>\n",
       "  </thead>\n",
       "  <tbody>\n",
       "    <tr>\n",
       "      <th>0</th>\n",
       "      <td>WIN_20250205_16_00_55_Pro.jpg</td>\n",
       "      <td>pupil</td>\n",
       "      <td>257</td>\n",
       "      <td>163</td>\n",
       "      <td>276</td>\n",
       "      <td>195</td>\n",
       "    </tr>\n",
       "    <tr>\n",
       "      <th>1</th>\n",
       "      <td>WIN_20250205_16_00_56_Pro.jpg</td>\n",
       "      <td>pupil</td>\n",
       "      <td>279</td>\n",
       "      <td>128</td>\n",
       "      <td>308</td>\n",
       "      <td>156</td>\n",
       "    </tr>\n",
       "    <tr>\n",
       "      <th>2</th>\n",
       "      <td>WIN_20250205_16_00_57_Pro.jpg</td>\n",
       "      <td>pupil</td>\n",
       "      <td>313</td>\n",
       "      <td>138</td>\n",
       "      <td>346</td>\n",
       "      <td>170</td>\n",
       "    </tr>\n",
       "    <tr>\n",
       "      <th>3</th>\n",
       "      <td>WIN_20250205_16_00_58_Pro.jpg</td>\n",
       "      <td>pupil</td>\n",
       "      <td>278</td>\n",
       "      <td>141</td>\n",
       "      <td>305</td>\n",
       "      <td>172</td>\n",
       "    </tr>\n",
       "    <tr>\n",
       "      <th>4</th>\n",
       "      <td>WIN_20250205_16_00_59_Pro.jpg</td>\n",
       "      <td>pupil</td>\n",
       "      <td>263</td>\n",
       "      <td>150</td>\n",
       "      <td>286</td>\n",
       "      <td>181</td>\n",
       "    </tr>\n",
       "  </tbody>\n",
       "</table>\n",
       "</div>"
      ],
      "text/plain": [
       "                       file_name obj_class   x1   y1   x2   y2\n",
       "0  WIN_20250205_16_00_55_Pro.jpg     pupil  257  163  276  195\n",
       "1  WIN_20250205_16_00_56_Pro.jpg     pupil  279  128  308  156\n",
       "2  WIN_20250205_16_00_57_Pro.jpg     pupil  313  138  346  170\n",
       "3  WIN_20250205_16_00_58_Pro.jpg     pupil  278  141  305  172\n",
       "4  WIN_20250205_16_00_59_Pro.jpg     pupil  263  150  286  181"
      ]
     },
     "execution_count": 108,
     "metadata": {},
     "output_type": "execute_result"
    }
   ],
   "source": [
    "df.head()"
   ]
  },
  {
   "cell_type": "code",
   "execution_count": 109,
   "metadata": {},
   "outputs": [],
   "source": [
    "def view_image(image, x1, y1, x2, y2):\n",
    "    ''' \n",
    "    view_image displays the bounding box on the image.\n",
    "\n",
    "    :param image: a numpy array representing the image.\n",
    "    :param x1: x min coordinates.\n",
    "    :param y1: y min coordinates.\n",
    "    :param x2: x max coordinates.\n",
    "    :param y2: y max coordinates.\n",
    "    '''\n",
    "\n",
    "    image = image.copy()\n",
    "    color = (0, 255, 0)\n",
    "    thickness = 2\n",
    "\n",
    "    cv2.rectangle(image, (x1, y1), (x2, y2), color, thickness)\n",
    "    cv2.imshow('Bounding Box', image)\n",
    "    cv2.waitKey(0)\n",
    "    cv2.destroyAllWindows()"
   ]
  },
  {
   "cell_type": "code",
   "execution_count": 110,
   "metadata": {},
   "outputs": [],
   "source": [
    "img_path = cwd + '\\\\image_data\\\\' + df['file_name'][0]\n",
    "img = cv2.imread(img_path)\n",
    "x1 = df['x1'][0]\n",
    "y1 = df['y1'][0]\n",
    "x2 = df['x2'][0]\n",
    "y2 = df['y2'][0]\n",
    "view_image(img, x1, y1, x2, y2)"
   ]
  },
  {
   "cell_type": "markdown",
   "metadata": {},
   "source": [
    "### Splitting data into training, testing, and validation groups.\n",
    "\n",
    "\n",
    "My training data will be 75% of original dataset, testing will be 10%, and validation will be 15%\n"
   ]
  },
  {
   "cell_type": "code",
   "execution_count": 111,
   "metadata": {},
   "outputs": [],
   "source": [
    "\n",
    "from sklearn.model_selection import train_test_split\n",
    "\n",
    "X = df['file_name']\n",
    "y = df[['x1', 'y1', 'x2', 'y2']]\n",
    "\n",
    "train_ratio = 0.75\n",
    "validation_ratio = 0.15\n",
    "test_ratio = 0.10\n",
    "\n",
    "X_train, X_temp, y_train, y_temp = train_test_split(X, y, test_size=1 - train_ratio)\n",
    "X_val, X_test, y_val, y_test = train_test_split(X_temp, y_temp, test_size=test_ratio/(test_ratio + validation_ratio)) \n"
   ]
  },
  {
   "cell_type": "markdown",
   "metadata": {},
   "source": [
    "Resetting indices"
   ]
  },
  {
   "cell_type": "code",
   "execution_count": 112,
   "metadata": {},
   "outputs": [],
   "source": [
    "X_train = X_train.reset_index(drop=True)\n",
    "y_train = y_train.reset_index(drop=True)\n",
    "X_test = X_test.reset_index(drop=True)\n",
    "y_test = y_test.reset_index(drop=True)\n",
    "X_val = X_val.reset_index(drop=True)\n",
    "y_val = y_val.reset_index(drop=True)"
   ]
  },
  {
   "cell_type": "code",
   "execution_count": 113,
   "metadata": {},
   "outputs": [],
   "source": [
    "img_path = cwd + '\\\\image_data\\\\' + X_train[1]\n",
    "img= cv2.imread(img_path)\n",
    "x1 = y_train['x1'][1]\n",
    "y1 = y_train['y1'][1]\n",
    "x2 = y_train['x2'][1]\n",
    "y2 = y_train['y2'][1]\n",
    "view_image(img, x1, y1, x2, y2)"
   ]
  },
  {
   "cell_type": "code",
   "execution_count": 114,
   "metadata": {},
   "outputs": [
    {
     "data": {
      "text/plain": [
       "0    WIN_20250205_16_21_25_Pro.jpg\n",
       "1    WIN_20250205_16_22_50_Pro.jpg\n",
       "2    WIN_20250208_18_41_18_Pro.jpg\n",
       "3    WIN_20250208_18_45_03_Pro.jpg\n",
       "4    WIN_20250208_18_45_13_Pro.jpg\n",
       "Name: file_name, dtype: object"
      ]
     },
     "execution_count": 114,
     "metadata": {},
     "output_type": "execute_result"
    }
   ],
   "source": [
    "X_val.head()"
   ]
  },
  {
   "cell_type": "code",
   "execution_count": 115,
   "metadata": {},
   "outputs": [
    {
     "data": {
      "text/html": [
       "<div>\n",
       "<style scoped>\n",
       "    .dataframe tbody tr th:only-of-type {\n",
       "        vertical-align: middle;\n",
       "    }\n",
       "\n",
       "    .dataframe tbody tr th {\n",
       "        vertical-align: top;\n",
       "    }\n",
       "\n",
       "    .dataframe thead th {\n",
       "        text-align: right;\n",
       "    }\n",
       "</style>\n",
       "<table border=\"1\" class=\"dataframe\">\n",
       "  <thead>\n",
       "    <tr style=\"text-align: right;\">\n",
       "      <th></th>\n",
       "      <th>x1</th>\n",
       "      <th>y1</th>\n",
       "      <th>x2</th>\n",
       "      <th>y2</th>\n",
       "    </tr>\n",
       "  </thead>\n",
       "  <tbody>\n",
       "    <tr>\n",
       "      <th>0</th>\n",
       "      <td>266</td>\n",
       "      <td>149</td>\n",
       "      <td>285</td>\n",
       "      <td>179</td>\n",
       "    </tr>\n",
       "    <tr>\n",
       "      <th>1</th>\n",
       "      <td>270</td>\n",
       "      <td>167</td>\n",
       "      <td>290</td>\n",
       "      <td>195</td>\n",
       "    </tr>\n",
       "    <tr>\n",
       "      <th>2</th>\n",
       "      <td>270</td>\n",
       "      <td>141</td>\n",
       "      <td>296</td>\n",
       "      <td>172</td>\n",
       "    </tr>\n",
       "    <tr>\n",
       "      <th>3</th>\n",
       "      <td>312</td>\n",
       "      <td>157</td>\n",
       "      <td>332</td>\n",
       "      <td>180</td>\n",
       "    </tr>\n",
       "    <tr>\n",
       "      <th>4</th>\n",
       "      <td>329</td>\n",
       "      <td>155</td>\n",
       "      <td>352</td>\n",
       "      <td>178</td>\n",
       "    </tr>\n",
       "  </tbody>\n",
       "</table>\n",
       "</div>"
      ],
      "text/plain": [
       "    x1   y1   x2   y2\n",
       "0  266  149  285  179\n",
       "1  270  167  290  195\n",
       "2  270  141  296  172\n",
       "3  312  157  332  180\n",
       "4  329  155  352  178"
      ]
     },
     "execution_count": 115,
     "metadata": {},
     "output_type": "execute_result"
    }
   ],
   "source": [
    "y_val.head()"
   ]
  },
  {
   "cell_type": "markdown",
   "metadata": {},
   "source": [
    "### Converting images and boundry data to arrays and normalizing \n",
    "\n",
    "Currently, <b>X_data</b> is a <u>series</u> of file names and <b>y_data</b> is a <u>dataframe</u> containing boundry data. I want the training data to be an <u>array</u> of pixel data and the target data to be an <u>array</u> containing just the boundries with no labels/index. I will create a function that handles both of these tasks. Along with converting data to array format these funcitons will also handle normalizing the data. For the images I do this by dividing the pixel data by 255 since a pixel is comprised of three values ranging from 0 to 255. Dividing by 255 gives me pixel data that ranges from 0 to 1. I treat the boudries similarly and divide x values by the width of my image and y values by the height leaving me with boundry data that ranges form 0 to 1. \n"
   ]
  },
  {
   "cell_type": "markdown",
   "metadata": {},
   "source": [
    "#### Creating functions"
   ]
  },
  {
   "cell_type": "code",
   "execution_count": 116,
   "metadata": {},
   "outputs": [],
   "source": [
    "from PIL import Image\n",
    "\n",
    "def images_to_arr(X):\n",
    "    '''\n",
    "    images_to_arr gets image path, loads the image, then converts it to a 3D array. \n",
    "    \n",
    "    :param X: the series of image file names to be converted.\n",
    "    '''\n",
    "    X_data = []\n",
    "    for i in range(len(X)):\n",
    "        img_path = cwd + '\\\\image_data\\\\' + X[i]\n",
    "        img = Image.open(img_path)\n",
    "        gray_img = img.convert('L')\n",
    "        img_arr = np.array(gray_img)\n",
    "        img_512x512 = img_arr.resize(512, 512)\n",
    "        \n",
    "        \n",
    "        X_data.append(img_512x512)\n",
    "    return np.array(X_data)\n"
   ]
  },
  {
   "cell_type": "code",
   "execution_count": 117,
   "metadata": {},
   "outputs": [],
   "source": [
    "def bounds_to_arr(y_data):\n",
    "    '''\n",
    "    bounds_to_arr converts boundry data from a dataframe to a np array containing just the coordinates. \n",
    "        It also normalizes the boundry values to be between 0 and 1\n",
    "\n",
    "    :param y: the dataframe of boundry data to be converted.\n",
    "    '''\n",
    "    final = []\n",
    "    for i in range(len(y_data)):\n",
    "        df = y_data.loc[i]\n",
    "        x1new = round((df['x1']/640), 2)\n",
    "        y1new = round((df['y1']/360), 2)\n",
    "        x2new = round((df['x2']/640), 2)\n",
    "        y2new = round((df['y2']/360), 2)\n",
    "        final.append((x1new, y1new, x2new, y2new))\n",
    "    return np.array(final)"
   ]
  },
  {
   "cell_type": "markdown",
   "metadata": {},
   "source": [
    "#### Executing functions"
   ]
  },
  {
   "cell_type": "code",
   "execution_count": 118,
   "metadata": {},
   "outputs": [],
   "source": [
    "X_train = images_to_arr(X_train)\n",
    "y_train = bounds_to_arr(y_train)\n",
    "X_test = images_to_arr(X_test)\n",
    "y_test = bounds_to_arr(y_test)\n",
    "X_val = images_to_arr(X_val)\n",
    "y_val = bounds_to_arr(y_val)"
   ]
  },
  {
   "cell_type": "markdown",
   "metadata": {},
   "source": [
    "#### Visualizing data after preprocessing is complete"
   ]
  },
  {
   "cell_type": "code",
   "execution_count": 119,
   "metadata": {},
   "outputs": [
    {
     "ename": "AttributeError",
     "evalue": "'NoneType' object has no attribute 'copy'",
     "output_type": "error",
     "traceback": [
      "\u001b[1;31m---------------------------------------------------------------------------\u001b[0m",
      "\u001b[1;31mAttributeError\u001b[0m                            Traceback (most recent call last)",
      "Cell \u001b[1;32mIn[119], line 5\u001b[0m\n\u001b[0;32m      3\u001b[0m x2 \u001b[38;5;241m=\u001b[39m \u001b[38;5;28mint\u001b[39m(y_train[\u001b[38;5;241m56\u001b[39m][\u001b[38;5;241m2\u001b[39m]\u001b[38;5;241m*\u001b[39m\u001b[38;5;241m512\u001b[39m)\n\u001b[0;32m      4\u001b[0m y2 \u001b[38;5;241m=\u001b[39m \u001b[38;5;28mint\u001b[39m(y_train[\u001b[38;5;241m56\u001b[39m][\u001b[38;5;241m3\u001b[39m]\u001b[38;5;241m*\u001b[39m\u001b[38;5;241m512\u001b[39m)\n\u001b[1;32m----> 5\u001b[0m \u001b[43mview_image\u001b[49m\u001b[43m(\u001b[49m\u001b[43m(\u001b[49m\u001b[43mX_train\u001b[49m\u001b[43m[\u001b[49m\u001b[38;5;241;43m56\u001b[39;49m\u001b[43m]\u001b[49m\u001b[43m)\u001b[49m\u001b[43m,\u001b[49m\u001b[43m \u001b[49m\u001b[43mx1\u001b[49m\u001b[43m,\u001b[49m\u001b[43m \u001b[49m\u001b[43my1\u001b[49m\u001b[43m,\u001b[49m\u001b[43m \u001b[49m\u001b[43mx2\u001b[49m\u001b[43m,\u001b[49m\u001b[43m \u001b[49m\u001b[43my2\u001b[49m\u001b[43m)\u001b[49m\n",
      "Cell \u001b[1;32mIn[109], line 12\u001b[0m, in \u001b[0;36mview_image\u001b[1;34m(image, x1, y1, x2, y2)\u001b[0m\n\u001b[0;32m      1\u001b[0m \u001b[38;5;28;01mdef\u001b[39;00m\u001b[38;5;250m \u001b[39m\u001b[38;5;21mview_image\u001b[39m(image, x1, y1, x2, y2):\n\u001b[0;32m      2\u001b[0m \u001b[38;5;250m    \u001b[39m\u001b[38;5;124;03m''' \u001b[39;00m\n\u001b[0;32m      3\u001b[0m \u001b[38;5;124;03m    view_image displays the bounding box on the image.\u001b[39;00m\n\u001b[0;32m      4\u001b[0m \n\u001b[1;32m   (...)\u001b[0m\n\u001b[0;32m      9\u001b[0m \u001b[38;5;124;03m    :param y2: y max coordinates.\u001b[39;00m\n\u001b[0;32m     10\u001b[0m \u001b[38;5;124;03m    '''\u001b[39;00m\n\u001b[1;32m---> 12\u001b[0m     image \u001b[38;5;241m=\u001b[39m \u001b[43mimage\u001b[49m\u001b[38;5;241;43m.\u001b[39;49m\u001b[43mcopy\u001b[49m()\n\u001b[0;32m     13\u001b[0m     color \u001b[38;5;241m=\u001b[39m (\u001b[38;5;241m0\u001b[39m, \u001b[38;5;241m255\u001b[39m, \u001b[38;5;241m0\u001b[39m)\n\u001b[0;32m     14\u001b[0m     thickness \u001b[38;5;241m=\u001b[39m \u001b[38;5;241m2\u001b[39m\n",
      "\u001b[1;31mAttributeError\u001b[0m: 'NoneType' object has no attribute 'copy'"
     ]
    }
   ],
   "source": [
    "x1 = int(y_train[56][0]*512)\n",
    "y1 = int(y_train[56][1]*512)\n",
    "x2 = int(y_train[56][2]*512)\n",
    "y2 = int(y_train[56][3]*512)\n",
    "view_image((X_train[56]), x1, y1, x2, y2)"
   ]
  },
  {
   "cell_type": "markdown",
   "metadata": {},
   "source": [
    "<hr></hr>"
   ]
  },
  {
   "cell_type": "markdown",
   "metadata": {},
   "source": [
    "### Cropping the image to get just the eyeball"
   ]
  },
  {
   "cell_type": "code",
   "execution_count": 18,
   "metadata": {},
   "outputs": [],
   "source": [
    "def crop_image(X_data):\n",
    "    ''' \n",
    "    crop_image removes 1/3 from all sides of the image.\n",
    "\n",
    "    :param X_data: image data as an array.\n",
    "    '''\n",
    "    array = []\n",
    "    for i in range(len(X_data)):\n",
    "        img = X_data[i]\n",
    "        img_small = img[171: 341, 171: 341]\n",
    "        img_norm = np.round(img_small/255, 2)\n",
    "        array.append(img_norm)\n",
    "    return np.array(array)"
   ]
  },
  {
   "cell_type": "code",
   "execution_count": 19,
   "metadata": {},
   "outputs": [],
   "source": [
    "def crop_bounds(y_data):\n",
    "    final = []\n",
    "    for i in range(len(y_data)):\n",
    "        arr = y_data[i]\n",
    "        x1new = arr[0]-0.33\n",
    "        y1new = arr[1]-0.33\n",
    "        x2new = arr[2]-0.33\n",
    "        y2new = arr[3]-0.33\n",
    "        final.append((x1new, y1new, x2new, y2new))\n",
    "    return np.array(final)"
   ]
  },
  {
   "cell_type": "markdown",
   "metadata": {},
   "source": [
    "### Calling functions"
   ]
  },
  {
   "cell_type": "code",
   "execution_count": 20,
   "metadata": {},
   "outputs": [],
   "source": [
    "X_train = crop_image(X_train)\n",
    "X_test = crop_image(X_test)\n",
    "X_val = crop_image(X_val)\n",
    "y_train = crop_bounds(y_train)\n",
    "y_test = crop_bounds(y_test)\n",
    "y_val = crop_bounds(y_val)"
   ]
  },
  {
   "cell_type": "code",
   "execution_count": 21,
   "metadata": {},
   "outputs": [],
   "source": [
    "x1 = int(y_train[50][0]*512)\n",
    "y1 = int(y_train[50][1]*512)\n",
    "x2 = int(y_train[50][2]*512)\n",
    "y2 = int(y_train[50][3]*512)\n",
    "view_image(X_train[50], x1, y1, x2, y2)"
   ]
  },
  {
   "cell_type": "markdown",
   "metadata": {},
   "source": [
    "## Selecting and Building a Model  \n",
    "\n",
    "I am beginning by pretty much copying a model from the 'Applied Machine Learning and AI for Engineers' text book to get a benchmark of where the data is at and what my model might need. The originial code can be found in the text book on page 254. I made one edit to the code and changed the loss funciton to mean squared error since my output layer is of size 4.  "
   ]
  },
  {
   "cell_type": "markdown",
   "metadata": {},
   "source": [
    "### Running a Simple Convolutional Neural Network for Experimentation  \n",
    "\n",
    "- the type of model is important and I should read more about this.  \n",
    "- Conv2D applies a convolution (2-dimentional for images since images are 2D) to the input image. \n",
    "The parameter 64 refers to the number of filters applied in the covolution.\n",
    "a filter is a stack of kernels. In this case each filter has 3 kernels since there are three channels specified in the input_shape param (image are usually RGB hence 3 channels. one for red one for green one for blue)\n",
    "The second param (3, 3) specifies the shape of the kerel applied.\n",
    "I should really learn more about activation functions relu or rectified linear unifying is common but this should be selected based on your data\n",
    "imput shape refers to the size of the image being passed into the layer. In this case I resized all of my images to be 512 pixels wide and 512 pixels high. Each image is not RGB so maybe I should change the channel.\n",
    "- Pooling is done to decrease compute time and helps to control overfitting by reducing the feature map output by the previous layer. \n",
    "Here were using maxpooling2d with shape 2x2 I am pretty sure this slides a 2x2 matrix across the featuremap reducing that 2x2 portion of the \n",
    "image down to a 1x1 block containing the maximum value in the 2x2 matrix.\n",
    "- Fully connected layers require 1D imputs. A flattening layer is added to convert 2D or 3D tensor (tensor is can be thought of as a n-dimentional matrix in this case 2x2 matrix) into a 1D vector\n",
    "- The dense layers convert the flattened feature maps to probabilities. the first param is how many output units youwant\n",
    "In this case my final dense layer has 4 units since I am predicting 4 points for boundries. \n",
    "activation matters and I should look more into this."
   ]
  },
  {
   "cell_type": "code",
   "execution_count": 22,
   "metadata": {},
   "outputs": [
    {
     "name": "stdout",
     "output_type": "stream",
     "text": [
      "Model: \"sequential\"\n",
      "________________________________________________________________________________\n",
      " Layer (type)                       Output Shape                    Param #     \n",
      "================================================================================\n",
      " conv2d (Conv2D)                    (None, 168, 168, 24)            672         \n",
      "                                                                                \n",
      " max_pooling2d (MaxPooling2D)       (None, 84, 84, 24)              0           \n",
      "                                                                                \n",
      " conv2d_1 (Conv2D)                  (None, 82, 82, 32)              6944        \n",
      "                                                                                \n",
      " max_pooling2d_1 (MaxPooling2D)     (None, 41, 41, 32)              0           \n",
      "                                                                                \n",
      " conv2d_2 (Conv2D)                  (None, 39, 39, 64)              18496       \n",
      "                                                                                \n",
      " max_pooling2d_2 (MaxPooling2D)     (None, 19, 19, 64)              0           \n",
      "                                                                                \n",
      " conv2d_3 (Conv2D)                  (None, 16, 16, 128)             131200      \n",
      "                                                                                \n",
      " max_pooling2d_3 (MaxPooling2D)     (None, 8, 8, 128)               0           \n",
      "                                                                                \n",
      " flatten (Flatten)                  (None, 8192)                    0           \n",
      "                                                                                \n",
      " dense (Dense)                      (None, 512)                     4194816     \n",
      "                                                                                \n",
      " dense_1 (Dense)                    (None, 4)                       2052        \n",
      "                                                                                \n",
      "================================================================================\n",
      "Total params: 4,354,180\n",
      "Trainable params: 4,354,180\n",
      "Non-trainable params: 0\n",
      "________________________________________________________________________________\n"
     ]
    }
   ],
   "source": [
    "#one edit I made was to change the loss funciton to mean squared error.\n",
    "from tensorflow.keras.models import Sequential\n",
    "from tensorflow.keras.layers import Conv2D, MaxPooling2D, Flatten, Dense\n",
    "from tensorflow.keras.losses import Huber\n",
    "from tensorflow.keras.optimizers import SGD\n",
    "loss = Huber(delta=1.0)\n",
    "\n",
    "model = Sequential()\n",
    "model.add(Conv2D(24, (3, 3), activation='relu', input_shape=(170, 170, 3)))\n",
    "model.add(MaxPooling2D(2, 2)) \n",
    "model.add(Conv2D(32, (3, 3), activation='relu'))\n",
    "model.add(MaxPooling2D(2, 2))\n",
    "model.add(Conv2D(64, (3, 3), activation='relu'))\n",
    "model.add(MaxPooling2D(2, 2))\n",
    "model.add(Conv2D(128, (4, 4), activation='relu'))\n",
    "model.add(MaxPooling2D(2, 2)) \n",
    "model.add(Flatten())\n",
    "model.add(Dense(512, activation='relu'))\n",
    "model.add(Dense(4, activation='linear'))\n",
    "model.compile(optimizer=SGD(learning_rate=0.01, momentum=0.9), loss=loss,\n",
    "             metrics=['accuracy'])\n",
    "model.summary(line_length=80)"
   ]
  },
  {
   "cell_type": "code",
   "execution_count": 23,
   "metadata": {},
   "outputs": [],
   "source": [
    "def view_accuracy_metrics(hist):\n",
    "    ''' \n",
    "    view_accuracy_metrics displays a graph showing training and validation accuracy.\n",
    "\n",
    "    :param hist: object containing info about training process.\n",
    "    '''\n",
    "    sns.set()\n",
    "    acc = hist.history['accuracy']\n",
    "    val_acc = hist.history['val_accuracy']\n",
    "    epochs = range(1, len(acc) + 1)\n",
    "    plt.plot(epochs, acc, '-', label='Training Accuracy')\n",
    "    plt.plot(epochs, val_acc, ':', label='Validation Accuracy')\n",
    "    plt.title('Training and Validation Accuracy')\n",
    "    plt.xlabel('Epoch')\n",
    "    plt.ylabel('Accuracy')\n",
    "    plt.legend(loc='lower right')\n",
    "    plt.plot()"
   ]
  },
  {
   "cell_type": "code",
   "execution_count": 28,
   "metadata": {},
   "outputs": [
    {
     "name": "stdout",
     "output_type": "stream",
     "text": [
      "Epoch 1/12\n",
      "28/28 [==============================] - 0s 13ms/step - loss: 0.0107 - accuracy: 0.6667 - val_loss: 0.0091 - val_accuracy: 0.7091\n",
      "Epoch 2/12\n",
      "28/28 [==============================] - 0s 8ms/step - loss: 0.0100 - accuracy: 0.7319 - val_loss: 0.0076 - val_accuracy: 0.7818\n",
      "Epoch 3/12\n",
      "28/28 [==============================] - 0s 8ms/step - loss: 0.0068 - accuracy: 0.7428 - val_loss: 0.0069 - val_accuracy: 0.8000\n",
      "Epoch 4/12\n",
      "28/28 [==============================] - 0s 8ms/step - loss: 0.0058 - accuracy: 0.7464 - val_loss: 0.0047 - val_accuracy: 0.8182\n",
      "Epoch 5/12\n",
      "28/28 [==============================] - 0s 8ms/step - loss: 0.0049 - accuracy: 0.7899 - val_loss: 0.0051 - val_accuracy: 0.8182\n",
      "Epoch 6/12\n",
      "28/28 [==============================] - 0s 8ms/step - loss: 0.0046 - accuracy: 0.7826 - val_loss: 0.0036 - val_accuracy: 0.8000\n",
      "Epoch 7/12\n",
      "28/28 [==============================] - 0s 8ms/step - loss: 0.0052 - accuracy: 0.7029 - val_loss: 0.0041 - val_accuracy: 0.7091\n",
      "Epoch 8/12\n",
      "28/28 [==============================] - 0s 8ms/step - loss: 0.0046 - accuracy: 0.7391 - val_loss: 0.0040 - val_accuracy: 0.8000\n",
      "Epoch 9/12\n",
      "28/28 [==============================] - 0s 8ms/step - loss: 0.0035 - accuracy: 0.8043 - val_loss: 0.0035 - val_accuracy: 0.8000\n",
      "Epoch 10/12\n",
      "28/28 [==============================] - 0s 8ms/step - loss: 0.0035 - accuracy: 0.7899 - val_loss: 0.0050 - val_accuracy: 0.8000\n",
      "Epoch 11/12\n",
      "28/28 [==============================] - 0s 8ms/step - loss: 0.0043 - accuracy: 0.7319 - val_loss: 0.0027 - val_accuracy: 0.8000\n",
      "Epoch 12/12\n",
      "28/28 [==============================] - 0s 8ms/step - loss: 0.0031 - accuracy: 0.7754 - val_loss: 0.0032 - val_accuracy: 0.7818\n"
     ]
    }
   ],
   "source": [
    "hist = model.fit(X_train, y_train,\n",
    "                validation_data=(X_val, y_val),\n",
    "                batch_size=10, epochs=12)"
   ]
  },
  {
   "cell_type": "code",
   "execution_count": 29,
   "metadata": {},
   "outputs": [
    {
     "data": {
      "image/png": "[encoded data removed]",
      "text/plain": [
       "<Figure size 640x480 with 1 Axes>"
      ]
     },
     "metadata": {},
     "output_type": "display_data"
    }
   ],
   "source": [
    "view_accuracy_metrics(hist)"
   ]
  },
  {
   "cell_type": "code",
   "execution_count": 30,
   "metadata": {},
   "outputs": [
    {
     "name": "stdout",
     "output_type": "stream",
     "text": [
      "2/2 [==============================] - 0s 152ms/step\n"
     ]
    }
   ],
   "source": [
    "bounds = model.predict(X_test)"
   ]
  },
  {
   "cell_type": "code",
   "execution_count": 31,
   "metadata": {},
   "outputs": [
    {
     "data": {
      "text/plain": [
       "array([[ 4.65391204e-02, -7.12983012e-02,  8.33130926e-02,\n",
       "        -3.86688560e-02],\n",
       "       [ 1.86652780e-01,  7.26914182e-02,  2.14309916e-01,\n",
       "         1.27632037e-01],\n",
       "       [ 2.48781014e-02, -1.64402835e-02,  4.11134064e-02,\n",
       "         3.53552103e-02],\n",
       "       [ 2.91674901e-02, -4.03654240e-02,  5.12578674e-02,\n",
       "         1.97440162e-02],\n",
       "       [-2.36639306e-01, -2.08763570e-01, -2.24058419e-01,\n",
       "        -1.74634665e-01],\n",
       "       [-2.04442114e-01, -2.07845762e-01, -1.87355965e-01,\n",
       "        -2.20782906e-01],\n",
       "       [ 5.97756952e-02, -1.30522996e-04,  1.02247186e-01,\n",
       "         3.90011519e-02],\n",
       "       [ 5.33028021e-02,  5.35876378e-02,  5.79393283e-02,\n",
       "         1.00765988e-01],\n",
       "       [ 1.05078220e-01, -8.63433257e-03,  1.44047454e-01,\n",
       "         6.40554503e-02],\n",
       "       [ 9.31552947e-02,  3.56170014e-02,  1.34370983e-01,\n",
       "         1.18167058e-01],\n",
       "       [ 6.38802722e-02,  1.68517604e-03,  1.08149044e-01,\n",
       "         5.94018549e-02],\n",
       "       [ 8.64755064e-02,  1.34987384e-02,  1.24051929e-01,\n",
       "         1.07841760e-01],\n",
       "       [ 2.42080390e-02, -3.12099718e-02,  2.63533480e-02,\n",
       "         2.96143144e-02],\n",
       "       [ 1.28255323e-01,  5.04389405e-04,  1.50530621e-01,\n",
       "         9.15061012e-02],\n",
       "       [-3.72462243e-01, -4.03280139e-01, -3.77223015e-01,\n",
       "        -3.81883323e-01],\n",
       "       [ 1.89051777e-01,  8.25903565e-02,  2.18929082e-01,\n",
       "         1.33810729e-01],\n",
       "       [ 1.56109765e-01,  8.59905183e-02,  1.81881055e-01,\n",
       "         1.23364091e-01],\n",
       "       [ 3.19105536e-02,  1.41643174e-02,  5.57171628e-02,\n",
       "         7.95481950e-02],\n",
       "       [ 7.84050971e-02,  1.06873680e-02,  9.98409614e-02,\n",
       "         7.59421811e-02],\n",
       "       [ 1.08865872e-01,  5.37053347e-02,  1.42370746e-01,\n",
       "         9.46268514e-02],\n",
       "       [ 1.13764718e-01,  1.68821402e-02,  1.40682310e-01,\n",
       "         6.22559935e-02],\n",
       "       [ 7.20649213e-02,  3.21238637e-02,  1.02677561e-01,\n",
       "         1.24876276e-01],\n",
       "       [-3.56370538e-01, -3.88991356e-01, -3.68214369e-01,\n",
       "        -4.02212739e-01],\n",
       "       [-1.51561037e-01, -1.89475119e-01, -1.75563157e-01,\n",
       "        -1.48371339e-01],\n",
       "       [ 3.65789197e-02, -1.46922134e-02,  7.22810850e-02,\n",
       "         6.09092265e-02],\n",
       "       [ 4.33042496e-02,  5.31523712e-02,  9.57023129e-02,\n",
       "         1.03378609e-01],\n",
       "       [ 1.61604390e-01,  8.73380005e-02,  1.92094088e-01,\n",
       "         1.48694158e-01],\n",
       "       [ 1.99264605e-02,  2.10842639e-02,  2.78209280e-02,\n",
       "         6.74210489e-02],\n",
       "       [ 1.56125575e-01,  2.39862241e-02,  1.99603185e-01,\n",
       "         8.09187815e-02],\n",
       "       [ 1.17772818e-01,  5.82178682e-03,  1.68250695e-01,\n",
       "         3.14370245e-02],\n",
       "       [ 9.97462794e-02,  4.24907282e-02,  1.40699327e-01,\n",
       "         8.62335116e-02],\n",
       "       [ 7.68595040e-02,  5.10490909e-02,  8.49730149e-02,\n",
       "         1.18625306e-01],\n",
       "       [ 1.15511693e-01,  5.11355661e-02,  1.54809952e-01,\n",
       "         9.27805826e-02],\n",
       "       [ 5.74056953e-02,  2.62539759e-02,  1.11112192e-01,\n",
       "         9.75361615e-02],\n",
       "       [-1.02050371e-01, -1.38909265e-01, -1.26662567e-01,\n",
       "        -9.48364511e-02],\n",
       "       [-1.76072091e-01, -1.72284529e-01, -1.67035118e-01,\n",
       "        -1.92602724e-01],\n",
       "       [ 1.31296322e-01,  8.69254321e-02,  1.63858458e-01,\n",
       "         1.41661584e-01]], dtype=float32)"
      ]
     },
     "execution_count": 31,
     "metadata": {},
     "output_type": "execute_result"
    }
   ],
   "source": [
    "bounds"
   ]
  },
  {
   "cell_type": "code",
   "execution_count": 32,
   "metadata": {},
   "outputs": [],
   "source": [
    "view_image(X_test[0], int(bounds[1][0]*512),\n",
    "            int(bounds[1][1]*512), int(bounds[1][2]*512), int(bounds[1][3]*512))"
   ]
  },
  {
   "cell_type": "markdown",
   "metadata": {},
   "source": [
    "#### Copying VGG16 model"
   ]
  },
  {
   "cell_type": "code",
   "execution_count": 33,
   "metadata": {},
   "outputs": [],
   "source": [
    "from tensorflow.keras.models import Sequential\n",
    "from tensorflow.keras.layers import Conv2D, MaxPooling2D, Flatten, Dense"
   ]
  },
  {
   "cell_type": "code",
   "execution_count": 34,
   "metadata": {},
   "outputs": [],
   "source": [
    "def show_feat_map(model, data):\n",
    "    ''' \n",
    "    show_feat_map displays the feature map (image) after each filter is applied. \n",
    "\n",
    "    :param result: takes in the 4D tensor output from MaxPooling2D layer with format (batch_size, rows, cols, channels). \n",
    "    '''\n",
    "\n",
    "    model.build()\n",
    "    model.summary()\n",
    "    result = model.predict(data)\n",
    "    for i in range(64):\n",
    "        feature_img = result[0, :, :, i]\n",
    "        ax = plt.subplot(8, 8, i+1)\n",
    "        ax.set_xticks([])\n",
    "        ax.set_yticks([])\n",
    "        plt.imshow(feature_img, cmap='grey')\n",
    "    plt.show\n"
   ]
  },
  {
   "cell_type": "code",
   "execution_count": 46,
   "metadata": {},
   "outputs": [],
   "source": [
    "model = Sequential()"
   ]
  },
  {
   "cell_type": "code",
   "execution_count": 47,
   "metadata": {},
   "outputs": [],
   "source": [
    "#Block 1\n",
    "model.add(Conv2D(64, kernel_size=(3, 3), padding='same', activation='relu', input_shape=(170, 170, 3)))\n",
    "model.add(Conv2D(64, kernel_size=(3, 3), padding='same', activation='relu'))\n",
    "model.add(MaxPooling2D(pool_size=(2, 2), strides=(2, 2))) "
   ]
  },
  {
   "cell_type": "code",
   "execution_count": null,
   "metadata": {},
   "outputs": [],
   "source": [
    "#show_feat_map(model, X_test)"
   ]
  },
  {
   "cell_type": "code",
   "execution_count": 48,
   "metadata": {},
   "outputs": [],
   "source": [
    "#Block 2\n",
    "model.add(Conv2D(128, kernel_size=(3, 3), padding='same', activation='relu'))\n",
    "model.add(Conv2D(128, kernel_size=(3, 3), padding='same', activation='relu'))\n",
    "model.add(MaxPooling2D(pool_size=(2, 2), strides=(2, 2)))"
   ]
  },
  {
   "cell_type": "code",
   "execution_count": 49,
   "metadata": {},
   "outputs": [],
   "source": [
    "\n",
    "#Block 3\n",
    "model.add(Conv2D(256, kernel_size=(3, 3), padding='same', activation='relu'))\n",
    "model.add(Conv2D(256, kernel_size=(3, 3), padding='same', activation='relu'))\n",
    "model.add(MaxPooling2D(pool_size=(2, 2), strides=(2, 2)))"
   ]
  },
  {
   "cell_type": "code",
   "execution_count": null,
   "metadata": {},
   "outputs": [],
   "source": [
    "#show_feat_map(model, X_test)"
   ]
  },
  {
   "cell_type": "code",
   "execution_count": 50,
   "metadata": {},
   "outputs": [],
   "source": [
    "#Block 4\n",
    "model.add(Conv2D(512, kernel_size=(3, 3), padding='same', activation='relu'))\n",
    "model.add(Conv2D(512, kernel_size=(3, 3), padding='same', activation='relu'))\n",
    "model.add(Conv2D(512, kernel_size=(3, 3), padding='same', activation='relu'))\n",
    "model.add(MaxPooling2D(pool_size=(2, 2), strides=(2, 2)))"
   ]
  },
  {
   "cell_type": "code",
   "execution_count": 51,
   "metadata": {},
   "outputs": [],
   "source": [
    "#Block 5\n",
    "model.add(Conv2D(512, kernel_size=(3, 3), padding='same', activation='relu'))\n",
    "model.add(Conv2D(512, kernel_size=(3, 3), padding='same', activation='relu'))\n",
    "model.add(Conv2D(512, kernel_size=(3, 3), padding='same', activation='relu'))\n",
    "model.add(MaxPooling2D(pool_size=(2, 2), strides=(2, 2)))"
   ]
  },
  {
   "cell_type": "code",
   "execution_count": null,
   "metadata": {},
   "outputs": [],
   "source": [
    "#show_feat_map(model, X_test)"
   ]
  },
  {
   "cell_type": "code",
   "execution_count": 52,
   "metadata": {},
   "outputs": [],
   "source": [
    "model.add(Flatten())\n",
    "model.add(Dense(512, activation='relu'))\n",
    "model.add(Dense(512, activation='relu'))\n",
    "model.add(Dense(4, activation='linear'))"
   ]
  },
  {
   "cell_type": "code",
   "execution_count": 53,
   "metadata": {},
   "outputs": [
    {
     "name": "stdout",
     "output_type": "stream",
     "text": [
      "Model: \"sequential_2\"\n",
      "_________________________________________________________________\n",
      " Layer (type)                Output Shape              Param #   \n",
      "=================================================================\n",
      " conv2d_18 (Conv2D)          (None, 170, 170, 64)      1792      \n",
      "                                                                 \n",
      " conv2d_19 (Conv2D)          (None, 170, 170, 64)      36928     \n",
      "                                                                 \n",
      " max_pooling2d_9 (MaxPooling  (None, 85, 85, 64)       0         \n",
      " 2D)                                                             \n",
      "                                                                 \n",
      " conv2d_20 (Conv2D)          (None, 85, 85, 128)       73856     \n",
      "                                                                 \n",
      " conv2d_21 (Conv2D)          (None, 85, 85, 128)       147584    \n",
      "                                                                 \n",
      " max_pooling2d_10 (MaxPoolin  (None, 42, 42, 128)      0         \n",
      " g2D)                                                            \n",
      "                                                                 \n",
      " conv2d_22 (Conv2D)          (None, 42, 42, 256)       295168    \n",
      "                                                                 \n",
      " conv2d_23 (Conv2D)          (None, 42, 42, 256)       590080    \n",
      "                                                                 \n",
      " max_pooling2d_11 (MaxPoolin  (None, 21, 21, 256)      0         \n",
      " g2D)                                                            \n",
      "                                                                 \n",
      " conv2d_24 (Conv2D)          (None, 21, 21, 512)       1180160   \n",
      "                                                                 \n",
      " conv2d_25 (Conv2D)          (None, 21, 21, 512)       2359808   \n",
      "                                                                 \n",
      " conv2d_26 (Conv2D)          (None, 21, 21, 512)       2359808   \n",
      "                                                                 \n",
      " max_pooling2d_12 (MaxPoolin  (None, 10, 10, 512)      0         \n",
      " g2D)                                                            \n",
      "                                                                 \n",
      " conv2d_27 (Conv2D)          (None, 10, 10, 512)       2359808   \n",
      "                                                                 \n",
      " conv2d_28 (Conv2D)          (None, 10, 10, 512)       2359808   \n",
      "                                                                 \n",
      " conv2d_29 (Conv2D)          (None, 10, 10, 512)       2359808   \n",
      "                                                                 \n",
      " max_pooling2d_13 (MaxPoolin  (None, 5, 5, 512)        0         \n",
      " g2D)                                                            \n",
      "                                                                 \n",
      " flatten_2 (Flatten)         (None, 12800)             0         \n",
      "                                                                 \n",
      " dense_5 (Dense)             (None, 512)               6554112   \n",
      "                                                                 \n",
      " dense_6 (Dense)             (None, 512)               262656    \n",
      "                                                                 \n",
      " dense_7 (Dense)             (None, 4)                 2052      \n",
      "                                                                 \n",
      "=================================================================\n",
      "Total params: 20,943,428\n",
      "Trainable params: 20,943,428\n",
      "Non-trainable params: 0\n",
      "_________________________________________________________________\n"
     ]
    }
   ],
   "source": [
    "model.compile(optimizer=\"adam\", loss=\"mse\", metrics=[\"mae\"])\n",
    "model.summary()"
   ]
  },
  {
   "cell_type": "code",
   "execution_count": 58,
   "metadata": {},
   "outputs": [
    {
     "name": "stdout",
     "output_type": "stream",
     "text": [
      "Epoch 1/12\n",
      "28/28 [==============================] - 2s 59ms/step - loss: 0.0267 - mae: 0.1152 - val_loss: 0.0386 - val_mae: 0.1345\n",
      "Epoch 2/12\n",
      "28/28 [==============================] - 2s 58ms/step - loss: 0.0268 - mae: 0.1172 - val_loss: 0.0384 - val_mae: 0.1361\n",
      "Epoch 3/12\n",
      "28/28 [==============================] - 2s 58ms/step - loss: 0.0265 - mae: 0.1074 - val_loss: 0.0385 - val_mae: 0.1347\n",
      "Epoch 4/12\n",
      "28/28 [==============================] - 2s 57ms/step - loss: 0.0267 - mae: 0.1185 - val_loss: 0.0385 - val_mae: 0.1354\n",
      "Epoch 5/12\n",
      "28/28 [==============================] - 2s 58ms/step - loss: 0.0265 - mae: 0.1055 - val_loss: 0.0383 - val_mae: 0.1365\n",
      "Epoch 6/12\n",
      "28/28 [==============================] - 2s 57ms/step - loss: 0.0268 - mae: 0.1119 - val_loss: 0.0388 - val_mae: 0.1329\n",
      "Epoch 7/12\n",
      "28/28 [==============================] - 2s 57ms/step - loss: 0.0265 - mae: 0.1131 - val_loss: 0.0382 - val_mae: 0.1373\n",
      "Epoch 8/12\n",
      "28/28 [==============================] - 2s 58ms/step - loss: 0.0265 - mae: 0.1082 - val_loss: 0.0385 - val_mae: 0.1353\n",
      "Epoch 9/12\n",
      "28/28 [==============================] - 2s 57ms/step - loss: 0.0265 - mae: 0.1141 - val_loss: 0.0383 - val_mae: 0.1362\n",
      "Epoch 10/12\n",
      "28/28 [==============================] - 2s 58ms/step - loss: 0.0265 - mae: 0.1070 - val_loss: 0.0382 - val_mae: 0.1372\n",
      "Epoch 11/12\n",
      "28/28 [==============================] - 2s 57ms/step - loss: 0.0264 - mae: 0.1139 - val_loss: 0.0380 - val_mae: 0.1387\n",
      "Epoch 12/12\n",
      "28/28 [==============================] - 2s 58ms/step - loss: 0.0265 - mae: 0.1089 - val_loss: 0.0381 - val_mae: 0.1383\n"
     ]
    }
   ],
   "source": [
    "hist = model.fit(X_train, y_train,\n",
    "                validation_data=(X_test, y_test),\n",
    "                batch_size=10, epochs=12)"
   ]
  },
  {
   "cell_type": "code",
   "execution_count": 59,
   "metadata": {},
   "outputs": [
    {
     "ename": "KeyError",
     "evalue": "'accuracy'",
     "output_type": "error",
     "traceback": [
      "\u001b[1;31m---------------------------------------------------------------------------\u001b[0m",
      "\u001b[1;31mKeyError\u001b[0m                                  Traceback (most recent call last)",
      "Cell \u001b[1;32mIn[59], line 1\u001b[0m\n\u001b[1;32m----> 1\u001b[0m \u001b[43mview_accuracy_metrics\u001b[49m\u001b[43m(\u001b[49m\u001b[43mhist\u001b[49m\u001b[43m)\u001b[49m\n",
      "Cell \u001b[1;32mIn[23], line 8\u001b[0m, in \u001b[0;36mview_accuracy_metrics\u001b[1;34m(hist)\u001b[0m\n\u001b[0;32m      2\u001b[0m \u001b[38;5;250m\u001b[39m\u001b[38;5;124;03m''' \u001b[39;00m\n\u001b[0;32m      3\u001b[0m \u001b[38;5;124;03mview_accuracy_metrics displays a graph showing training and validation accuracy.\u001b[39;00m\n\u001b[0;32m      4\u001b[0m \n\u001b[0;32m      5\u001b[0m \u001b[38;5;124;03m:param hist: object containing info about training process.\u001b[39;00m\n\u001b[0;32m      6\u001b[0m \u001b[38;5;124;03m'''\u001b[39;00m\n\u001b[0;32m      7\u001b[0m sns\u001b[38;5;241m.\u001b[39mset()\n\u001b[1;32m----> 8\u001b[0m acc \u001b[38;5;241m=\u001b[39m \u001b[43mhist\u001b[49m\u001b[38;5;241;43m.\u001b[39;49m\u001b[43mhistory\u001b[49m\u001b[43m[\u001b[49m\u001b[38;5;124;43m'\u001b[39;49m\u001b[38;5;124;43maccuracy\u001b[39;49m\u001b[38;5;124;43m'\u001b[39;49m\u001b[43m]\u001b[49m\n\u001b[0;32m      9\u001b[0m val_acc \u001b[38;5;241m=\u001b[39m hist\u001b[38;5;241m.\u001b[39mhistory[\u001b[38;5;124m'\u001b[39m\u001b[38;5;124mval_accuracy\u001b[39m\u001b[38;5;124m'\u001b[39m]\n\u001b[0;32m     10\u001b[0m epochs \u001b[38;5;241m=\u001b[39m \u001b[38;5;28mrange\u001b[39m(\u001b[38;5;241m1\u001b[39m, \u001b[38;5;28mlen\u001b[39m(acc) \u001b[38;5;241m+\u001b[39m \u001b[38;5;241m1\u001b[39m)\n",
      "\u001b[1;31mKeyError\u001b[0m: 'accuracy'"
     ]
    }
   ],
   "source": [
    "view_accuracy_metrics(hist)"
   ]
  },
  {
   "cell_type": "code",
   "execution_count": 60,
   "metadata": {},
   "outputs": [
    {
     "name": "stdout",
     "output_type": "stream",
     "text": [
      "2/2 [==============================] - 0s 308ms/step\n"
     ]
    }
   ],
   "source": [
    "bounds = model.predict(X_test)\n",
    "view_image(X_test[0], int(bounds[1][0]*512),\n",
    "            int(bounds[1][1]*512), int(bounds[1][2]*512), int(bounds[1][3]*512))"
   ]
  },
  {
   "cell_type": "code",
   "execution_count": null,
   "metadata": {},
   "outputs": [],
   "source": []
  }
 ],
 "metadata": {
  "kernelspec": {
   "display_name": "eyetracker",
   "language": "python",
   "name": "python3"
  },
  "language_info": {
   "codemirror_mode": {
    "name": "ipython",
    "version": 3
   },
   "file_extension": ".py",
   "mimetype": "text/x-python",
   "name": "python",
   "nbconvert_exporter": "python",
   "pygments_lexer": "ipython3",
   "version": "3.10.16"
  }
 },
 "nbformat": 4,
 "nbformat_minor": 2
}
