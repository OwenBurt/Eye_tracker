{
 "cells": [
  {
   "cell_type": "markdown",
   "metadata": {},
   "source": [
    "# Eye-tracker pupil detection model   \n",
    "<hr></hr>\n",
    "<div ><b>Author:</b> Owen Burt <div style = \"--display: inline; --text-align: right;\" ><b>Date created:</b> 2/21/2025 </div>\n",
    "\n",
    "<b>Description:</b>  \n",
    "\n",
    "In this notebook I prepare data for a CNN that will predict the location of a pupil. \n",
    "\n",
    "<b>References:</b>  \n",
    "\n",
    "<b>Sources:</b>  \n",
    "  \n"
   ]
  },
  {
   "cell_type": "code",
   "execution_count": 11,
   "metadata": {},
   "outputs": [],
   "source": [
    "import tensorflow as tf\n",
    "import pandas as pd\n",
    "import cv2\n",
    "import os as os"
   ]
  },
  {
   "cell_type": "markdown",
   "metadata": {},
   "source": [
    "# Data preprocessing"
   ]
  },
  {
   "cell_type": "code",
   "execution_count": 20,
   "metadata": {},
   "outputs": [],
   "source": [
    "cwd = os.getcwd()\n",
    "df = pd.read_csv(cwd + \"/eye_data.csv\")"
   ]
  },
  {
   "cell_type": "code",
   "execution_count": 21,
   "metadata": {},
   "outputs": [
    {
     "data": {
      "text/html": [
       "<div>\n",
       "<style scoped>\n",
       "    .dataframe tbody tr th:only-of-type {\n",
       "        vertical-align: middle;\n",
       "    }\n",
       "\n",
       "    .dataframe tbody tr th {\n",
       "        vertical-align: top;\n",
       "    }\n",
       "\n",
       "    .dataframe thead th {\n",
       "        text-align: right;\n",
       "    }\n",
       "</style>\n",
       "<table border=\"1\" class=\"dataframe\">\n",
       "  <thead>\n",
       "    <tr style=\"text-align: right;\">\n",
       "      <th></th>\n",
       "      <th>file_name</th>\n",
       "      <th>obj_class</th>\n",
       "      <th>x1</th>\n",
       "      <th>y1</th>\n",
       "      <th>x2</th>\n",
       "      <th>y2</th>\n",
       "    </tr>\n",
       "  </thead>\n",
       "  <tbody>\n",
       "    <tr>\n",
       "      <th>0</th>\n",
       "      <td>WIN_20250205_16_00_55_Pro.jpg</td>\n",
       "      <td>pupil</td>\n",
       "      <td>257</td>\n",
       "      <td>163</td>\n",
       "      <td>276</td>\n",
       "      <td>195</td>\n",
       "    </tr>\n",
       "    <tr>\n",
       "      <th>1</th>\n",
       "      <td>WIN_20250205_16_00_56_Pro.jpg</td>\n",
       "      <td>pupil</td>\n",
       "      <td>279</td>\n",
       "      <td>128</td>\n",
       "      <td>308</td>\n",
       "      <td>156</td>\n",
       "    </tr>\n",
       "    <tr>\n",
       "      <th>2</th>\n",
       "      <td>WIN_20250205_16_00_57_Pro.jpg</td>\n",
       "      <td>pupil</td>\n",
       "      <td>313</td>\n",
       "      <td>138</td>\n",
       "      <td>346</td>\n",
       "      <td>170</td>\n",
       "    </tr>\n",
       "    <tr>\n",
       "      <th>3</th>\n",
       "      <td>WIN_20250205_16_00_58_Pro.jpg</td>\n",
       "      <td>pupil</td>\n",
       "      <td>278</td>\n",
       "      <td>141</td>\n",
       "      <td>305</td>\n",
       "      <td>172</td>\n",
       "    </tr>\n",
       "    <tr>\n",
       "      <th>4</th>\n",
       "      <td>WIN_20250205_16_00_59_Pro.jpg</td>\n",
       "      <td>pupil</td>\n",
       "      <td>263</td>\n",
       "      <td>150</td>\n",
       "      <td>286</td>\n",
       "      <td>181</td>\n",
       "    </tr>\n",
       "  </tbody>\n",
       "</table>\n",
       "</div>"
      ],
      "text/plain": [
       "                       file_name obj_class   x1   y1   x2   y2\n",
       "0  WIN_20250205_16_00_55_Pro.jpg     pupil  257  163  276  195\n",
       "1  WIN_20250205_16_00_56_Pro.jpg     pupil  279  128  308  156\n",
       "2  WIN_20250205_16_00_57_Pro.jpg     pupil  313  138  346  170\n",
       "3  WIN_20250205_16_00_58_Pro.jpg     pupil  278  141  305  172\n",
       "4  WIN_20250205_16_00_59_Pro.jpg     pupil  263  150  286  181"
      ]
     },
     "execution_count": 21,
     "metadata": {},
     "output_type": "execute_result"
    }
   ],
   "source": [
    "df.head()"
   ]
  },
  {
   "cell_type": "markdown",
   "metadata": {},
   "source": [
    "## Splitting data into training, testing, and validation groups."
   ]
  },
  {
   "cell_type": "code",
   "execution_count": 15,
   "metadata": {},
   "outputs": [],
   "source": [
    "from sklearn.model_selection import train_test_split\n",
    "\n",
    "X = df['file_name']\n",
    "y = df[['x1', 'y1', 'x2', 'y2']]\n",
    "\n",
    "train_ratio = 0.75\n",
    "validation_ratio = 0.15\n",
    "test_ratio = 0.10\n",
    "\n",
    "# train is now 75% of the entire data set\n",
    "x_train, x_test, y_train, y_test = train_test_split(X, y, test_size=1 - train_ratio)\n",
    "\n",
    "# test is now 10% of the initial data set\n",
    "# validation is now 15% of the initial data set\n",
    "x_val, x_test, y_val, y_test = train_test_split(x_test, y_test, test_size=test_ratio/(test_ratio + validation_ratio)) \n"
   ]
  },
  {
   "cell_type": "markdown",
   "metadata": {},
   "source": [
    "## Converting images and boundy data to lists  \n",
    "Currently X_data is a series of file names and y_data is in data-frame format"
   ]
  },
  {
   "cell_type": "code",
   "execution_count": 18,
   "metadata": {},
   "outputs": [
    {
     "data": {
      "text/plain": [
       "pandas.core.frame.DataFrame"
      ]
     },
     "execution_count": 18,
     "metadata": {},
     "output_type": "execute_result"
    }
   ],
   "source": [
    "type(y_test)"
   ]
  },
  {
   "cell_type": "markdown",
   "metadata": {},
   "source": []
  }
 ],
 "metadata": {
  "kernelspec": {
   "display_name": "eyetracker",
   "language": "python",
   "name": "python3"
  },
  "language_info": {
   "codemirror_mode": {
    "name": "ipython",
    "version": 3
   },
   "file_extension": ".py",
   "mimetype": "text/x-python",
   "name": "python",
   "nbconvert_exporter": "python",
   "pygments_lexer": "ipython3",
   "version": "3.12.0"
  }
 },
 "nbformat": 4,
 "nbformat_minor": 2
}
